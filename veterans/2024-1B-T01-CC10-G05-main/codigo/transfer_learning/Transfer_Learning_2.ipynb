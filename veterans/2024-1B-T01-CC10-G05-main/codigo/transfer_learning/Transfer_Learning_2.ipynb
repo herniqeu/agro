{
  "cells": [
    {
      "cell_type": "markdown",
      "metadata": {
        "id": "IFcPAx-C4S-5"
      },
      "source": [
        "# Implementação de Transfer Learning com Fully Convolutional Network (FCN)\n",
        "\n",
        "Nesse notebook, faremos o processo de transfer learning com uma Rede Convolucional Completa (FCN-DK5), extraída do projeto \"Automatic Delineation of Agricultural Fields from Sentinel-2 Images\" da University of Twente\n",
        "\n",
        "O projeto com o modelo que usamos encontra-se disponível nas referências abaixo.\n",
        "\n",
        "## Referências:\n",
        "\n",
        "- Resign M. et al, 2021: Automatic Delineation of Agricultural Fields from Sentinel-2 Images. Disponível em: https://github.com/resingm/field-boundary-delineation/blob/master/paper.pdf. Acesso em 5 de maio de 2024.\n",
        "\n",
        "- Resign M. et al, 2021. Repositório GitHub, acesso em 5 de maio de 2024, https://github.com/resingm/field-boundary-delineation/tree/master\n",
        "\n",
        "## Como executar\n",
        "\n",
        "Para executar esse notebook com CPU ou GPU siga os passos abaixo:\n",
        "1. Baixe este notebook e importe para o <a href=\"https://colab.google/\">Google Colab</a>\n",
        "2. No menu superior direito do colab, onde está escrito \"Conectar\" ou \"Ligar\", clique na seta ao lado e escolha a opção \"Alterar o tipo de ambiente de execução\"\n",
        "3. Uma janela será aberta onde você pode escolher entre utilizar CPU ou GPU. \n",
        "4. Para rodar este notebook, alguns arquivos são necessários. Acesse https://drive.google.com/drive/folders/1vcymtzjDJqVRd3x0ivSywnouhkqotq5J?usp=sharing e baixe os dois arquivos da pasta chamados \"X\" e \"Y\". Caso prefira, poderá salvá-los em seu Google Drive, criando uma cópia. Esses são os dados que serão utilizados no modelo (\"X\" e \"Y\" são os dados prontos e são suficientes caso deseje ir diretamente para o treinamento, pulando a etapa \"Preparação final dos Dados\".).\n",
        "5. Baixe também o modelo prétreinado, disponível [nesse link](https://github.com/resingm/field-boundary-delineation/blob/master/FCN-DK5/653e6d98-5974-11eb-a09d-0242ac1c0002-FCNDK5-model.h5) e coloque o arquivo no Google Drive com o nome '/Models/FCNDK5.h5'\n",
        "\n",
        "Caso tenha baixado localmente:\n",
        "\n",
        "6. Aguarde o download dos arquivos. Após, no menu lateral esquerdo do colab clique no ícone de pasta (último ícone), e depois no primeiro ícone para upload de arquivos (\"Fazer upload para o armazenamento da sessão\").\n",
        "7. Adicione os dois arquivos previamente baixados.\n",
        "\n",
        "Pronto! Já está tudo preparado para execução.\n",
        "\n",
        "<strong>OBS: Caso deseje alterar de CPU para GPU, ou vice-versa, durante a execução, a sessão será reiniciada e tudo deverá ser executado novamente.\n",
        "\n",
        "\n",
        "\n"
      ]
    },
    {
      "cell_type": "code",
      "execution_count": null,
      "metadata": {
        "id": "15-1r-ZWSK5_"
      },
      "outputs": [],
      "source": [
        "import psutil"
      ]
    },
    {
      "cell_type": "code",
      "execution_count": null,
      "metadata": {
        "id": "lVJEdXBiQpHl"
      },
      "outputs": [],
      "source": [
        "from PIL import Image\n",
        "import numpy as np\n",
        "import matplotlib.pyplot as plt\n",
        "import keras\n",
        "import pickle\n",
        "import pandas as pd\n",
        "import tensorflow as tf\n",
        "from keras import Input\n",
        "from keras.datasets import cifar10\n",
        "from keras.utils import to_categorical, Sequence\n",
        "from keras.models import Sequential\n",
        "from keras.layers import Conv2D, MaxPool2D, Flatten, Dense, BatchNormalization, Conv2DTranspose, concatenate, Dropout, UpSampling2D\n",
        "from sklearn.model_selection import train_test_split\n",
        "import time\n"
      ]
    },
    {
      "cell_type": "code",
      "execution_count": null,
      "metadata": {
        "colab": {
          "base_uri": "https://localhost:8080/"
        },
        "id": "by14Yt1KXHQf",
        "outputId": "a377219b-289a-4123-d12f-ecbd209839d9"
      },
      "outputs": [
        {
          "name": "stdout",
          "output_type": "stream",
          "text": [
            "Mounted at /content/drive\n"
          ]
        }
      ],
      "source": [
        "from google.colab import drive\n",
        "drive.mount('/content/drive', force_remount=True)"
      ]
    },
    {
      "cell_type": "markdown",
      "metadata": {
        "id": "-pFrREWv8j2_"
      },
      "source": [
        "## Leitura dos dados\n",
        "\n",
        "Os dados das imagens (X) e dos arquivos de máscara (Y) já foram codificados previamente como arquivos .pkl no Google Drive para otimizar o armazenamento. Vamos carregá-los e usá-los para o processo de transfer learning."
      ]
    },
    {
      "cell_type": "code",
      "execution_count": 27,
      "metadata": {
        "id": "Xcp8wWyqVNBl"
      },
      "outputs": [],
      "source": [
        "file_x = open('/content/drive/MyDrive/Satelite Data/loaded_df/X.pkl', 'rb')\n",
        "\n",
        "X = pickle.load(file_x)\n",
        "\n",
        "file_y = open('/content/drive/MyDrive/Satelite Data/loaded_df/Y.pkl', 'rb')\n",
        "\n",
        "Y = pickle.load(file_y)\n",
        "\n",
        "file_x.close()\n",
        "file_y.close()\n"
      ]
    },
    {
      "cell_type": "code",
      "execution_count": 28,
      "metadata": {
        "id": "1liirvaW8_Xe"
      },
      "outputs": [],
      "source": [
        "class myCallback(tf.keras.callbacks.Callback):\n",
        "  def on_epoch_end(self, epoch, logs={}):\n",
        "    if(logs.get('accuracy') >= 0.8 or logs.get('val_accuracy') >= 0.8):\n",
        "      print(\"\\nAtingímos uma precisão maior ou igual a 80.0% então podemos parar o treino!\")\n",
        "      self.model.stop_training = True"
      ]
    },
    {
      "cell_type": "code",
      "execution_count": 29,
      "metadata": {
        "id": "NiH30W449DS2"
      },
      "outputs": [],
      "source": [
        "def memory_usage_psutil():\n",
        "    process = psutil.Process()\n",
        "    mem = process.memory_info().rss / float(2 ** 20)  # em MB\n",
        "    return mem"
      ]
    },
    {
      "cell_type": "markdown",
      "metadata": {
        "id": "4JH_u4yOh46M"
      },
      "source": [
        "# Transfer Learning\n",
        "\n",
        "Vamos iniciar o processo de transfer learning importando o modelo e alterando suas camadas."
      ]
    },
    {
      "cell_type": "code",
      "execution_count": null,
      "metadata": {
        "colab": {
          "base_uri": "https://localhost:8080/"
        },
        "id": "JDeZYCJ_WRnd",
        "outputId": "35ab552d-edd7-41a2-bf18-be69bcdba8a4"
      },
      "outputs": [
        {
          "name": "stdout",
          "output_type": "stream",
          "text": [
            "(2160, 208, 208, 4)\n"
          ]
        }
      ],
      "source": [
        "import numpy as np\n",
        "\n",
        "# X é o array com o shape original (tamanho_do_batch, 208, 208, 3)\n",
        "batch_size = X.shape[0]\n",
        "\n",
        "# Criar um novo canal para a mascara\n",
        "new_channel = np.ones((batch_size, 208, 208, 1))\n",
        "\n",
        "# Concatenar o X antigo (RGB) com a mascara\n",
        "new_X = np.concatenate((X, new_channel), axis=-1)\n",
        "\n",
        "print(new_X.shape)"
      ]
    },
    {
      "cell_type": "code",
      "execution_count": null,
      "metadata": {
        "colab": {
          "base_uri": "https://localhost:8080/"
        },
        "id": "FJKF5ds72YHv",
        "outputId": "b6d874c0-1184-4860-e150-506b298b2036"
      },
      "outputs": [
        {
          "data": {
            "text/plain": [
              "(2160, 208, 208, 3)"
            ]
          },
          "execution_count": 24,
          "metadata": {},
          "output_type": "execute_result"
        }
      ],
      "source": [
        "X.shape"
      ]
    },
    {
      "cell_type": "code",
      "execution_count": null,
      "metadata": {
        "id": "_m7hbDQdY8r4"
      },
      "outputs": [],
      "source": [
        "from keras import layers\n",
        "from keras import Model\n",
        "from keras.models import Sequential, load_model\n",
        "from keras.optimizers import RMSprop\n",
        "from keras.layers import UpSampling2D, Conv2D, Input, Activation, Resizing, Activation, BatchNormalization\n",
        "from keras.optimizers import Adam\n",
        "from keras.models import Model, load_model\n",
        "from keras.optimizers import Adam"
      ]
    },
    {
      "cell_type": "code",
      "execution_count": null,
      "metadata": {
        "colab": {
          "base_uri": "https://localhost:8080/"
        },
        "id": "O4jpVf7RXruB",
        "outputId": "043dd4f3-f411-4f74-c904-8fa9d100a4b5"
      },
      "outputs": [
        {
          "name": "stdout",
          "output_type": "stream",
          "text": [
            "Model: \"model_1\"\n",
            "_________________________________________________________________\n",
            " Layer (type)                Output Shape              Param #   \n",
            "=================================================================\n",
            " input_new (InputLayer)      [(None, 208, 208, 4)]     0         \n",
            "                                                                 \n",
            " conv2d (Conv2D)             (None, 208, 208, 16)      1616      \n",
            "                                                                 \n",
            " batch_normalization (Batch  (None, 208, 208, 16)      64        \n",
            " Normalization)                                                  \n",
            "                                                                 \n",
            " conv2d_1 (Conv2D)           (None, 208, 208, 32)      12832     \n",
            "                                                                 \n",
            " batch_normalization_1 (Bat  (None, 208, 208, 32)      128       \n",
            " chNormalization)                                                \n",
            "                                                                 \n",
            " conv2d_2 (Conv2D)           (None, 208, 208, 32)      25632     \n",
            "                                                                 \n",
            " batch_normalization_2 (Bat  (None, 208, 208, 32)      128       \n",
            " chNormalization)                                                \n",
            "                                                                 \n",
            " conv2d_3 (Conv2D)           (None, 208, 208, 32)      25632     \n",
            "                                                                 \n",
            " batch_normalization_3 (Bat  (None, 208, 208, 32)      128       \n",
            " chNormalization)                                                \n",
            "                                                                 \n",
            " conv2d_4 (Conv2D)           (None, 208, 208, 32)      25632     \n",
            "                                                                 \n",
            " batch_normalization_4 (Bat  (None, 208, 208, 32)      128       \n",
            " chNormalization)                                                \n",
            "                                                                 \n",
            " conv2d_5 (Conv2D)           (None, 208, 208, 2)       66        \n",
            "                                                                 \n",
            " up_sampling2d (UpSampling2  (None, 208, 208, 2)       0         \n",
            " D)                                                              \n",
            "                                                                 \n",
            " output_conv (Conv2D)        (None, 208, 208, 1)       3         \n",
            "                                                                 \n",
            "=================================================================\n",
            "Total params: 91989 (359.33 KB)\n",
            "Trainable params: 91701 (358.21 KB)\n",
            "Non-trainable params: 288 (1.12 KB)\n",
            "_________________________________________________________________\n"
          ]
        }
      ],
      "source": [
        "# Normalizar X\n",
        "X = X / 255.0\n",
        "\n",
        "# Assegurar que Y esta no formato correto\n",
        "Y = Y.astype(np.float32)\n",
        "\n",
        "# Carregar o modelo FCNDK5\n",
        "model_path = \"/content/drive/MyDrive/Models/FCNDK5.h5\"\n",
        "model = load_model(model_path)\n",
        "\n",
        "# Ajustar a camada de input para o novo shape do dataset\n",
        "input_layer = Input(shape=(208, 208, 4), name='input_new')\n",
        "x = input_layer\n",
        "\n",
        "# Aplicar algumas das camadas do modelo original\n",
        "for layer in model.layers[1:]:  # Pular a camada de \"input\" do modelo original\n",
        "    if isinstance(layer, Conv2D):\n",
        "        x = Conv2D(layer.filters, layer.kernel_size, strides=layer.strides,\n",
        "                   padding='same', activation=layer.activation, name=layer.name)(x)\n",
        "    elif isinstance(layer, BatchNormalization):\n",
        "        x = BatchNormalization()(x)\n",
        "\n",
        "# Fazer um Upsampling para voltar ao tamanho normal\n",
        "x = UpSampling2D(size=(1.107, 1.107))(x)\n",
        "\n",
        "# Camada de convolucao final para dar output na mascára\n",
        "x = Conv2D(1, (1, 1), activation=\"sigmoid\", padding=\"same\", name=\"output_conv\")(x)\n",
        "\n",
        "# Criar o novo modelo\n",
        "new_model = Model(inputs=input_layer, outputs=x)\n",
        "new_model.compile(optimizer=Adam(learning_rate=0.0001), loss='binary_crossentropy', metrics=['accuracy'])\n",
        "\n",
        "# Mostrar o sumário do modelo\n",
        "new_model.summary()"
      ]
    },
    {
      "cell_type": "markdown",
      "metadata": {
        "id": "D7liQMZhBjNN"
      },
      "source": [
        "## Treinar o modelo"
      ]
    },
    {
      "cell_type": "code",
      "execution_count": null,
      "metadata": {
        "colab": {
          "base_uri": "https://localhost:8080/"
        },
        "id": "JOY86r4fZLW5",
        "outputId": "7746fe9b-62a4-421f-a372-4d1a1016ec53"
      },
      "outputs": [
        {
          "name": "stdout",
          "output_type": "stream",
          "text": [
            "Total de parâmetros no modelo é de 91,989.\n",
            "Total de parâmetros que podem ser treinados no modelo são 91,701.\n"
          ]
        }
      ],
      "source": [
        "total_params = new_model.count_params()\n",
        "num_trainable_params = sum([w.shape.num_elements() for w in new_model.trainable_weights])\n",
        "\n",
        "print(f\"Total de parâmetros no modelo é de {total_params:,}.\")\n",
        "print(f\"Total de parâmetros que podem ser treinados no modelo são {num_trainable_params:,}.\")"
      ]
    },
    {
      "cell_type": "code",
      "execution_count": null,
      "metadata": {
        "id": "Iwwpyg5BcXRv"
      },
      "outputs": [],
      "source": [
        "X_train, X_test, y_train, y_test = train_test_split(new_X, Y, test_size=0.3)"
      ]
    },
    {
      "cell_type": "code",
      "execution_count": null,
      "metadata": {
        "colab": {
          "base_uri": "https://localhost:8080/"
        },
        "id": "ShKF9ViuZg94",
        "outputId": "b2134ed9-7041-4878-e1ba-bba0ffb3bbb8"
      },
      "outputs": [
        {
          "name": "stdout",
          "output_type": "stream",
          "text": [
            "Epoch 1/50\n",
            "48/48 [==============================] - 4s 89ms/step - loss: 0.5837 - accuracy: 0.7156 - val_loss: 0.5954 - val_accuracy: 0.6978\n",
            "Epoch 2/50\n",
            "48/48 [==============================] - 3s 65ms/step - loss: 0.5826 - accuracy: 0.7150 - val_loss: 0.5944 - val_accuracy: 0.6966\n",
            "Epoch 3/50\n",
            "48/48 [==============================] - 3s 64ms/step - loss: 0.5813 - accuracy: 0.7191 - val_loss: 0.5935 - val_accuracy: 0.7002\n",
            "Epoch 4/50\n",
            "48/48 [==============================] - 3s 64ms/step - loss: 0.5802 - accuracy: 0.7174 - val_loss: 0.5893 - val_accuracy: 0.7039\n",
            "Epoch 5/50\n",
            "48/48 [==============================] - 3s 65ms/step - loss: 0.5807 - accuracy: 0.7199 - val_loss: 0.5934 - val_accuracy: 0.6964\n",
            "Epoch 6/50\n",
            "48/48 [==============================] - 3s 65ms/step - loss: 0.5799 - accuracy: 0.7199 - val_loss: 0.5915 - val_accuracy: 0.7100\n",
            "Epoch 7/50\n",
            "48/48 [==============================] - 3s 64ms/step - loss: 0.5791 - accuracy: 0.7227 - val_loss: 0.5869 - val_accuracy: 0.7195\n",
            "Epoch 8/50\n",
            "48/48 [==============================] - 3s 64ms/step - loss: 0.5783 - accuracy: 0.7230 - val_loss: 0.5892 - val_accuracy: 0.7165\n",
            "Epoch 9/50\n",
            "48/48 [==============================] - 3s 65ms/step - loss: 0.5792 - accuracy: 0.7249 - val_loss: 0.5860 - val_accuracy: 0.7189\n",
            "Epoch 10/50\n",
            "48/48 [==============================] - 3s 65ms/step - loss: 0.5790 - accuracy: 0.7248 - val_loss: 0.5887 - val_accuracy: 0.7089\n",
            "Epoch 11/50\n",
            "48/48 [==============================] - 3s 65ms/step - loss: 0.5791 - accuracy: 0.7239 - val_loss: 0.5891 - val_accuracy: 0.7167\n",
            "Epoch 12/50\n",
            "48/48 [==============================] - 3s 65ms/step - loss: 0.5773 - accuracy: 0.7251 - val_loss: 0.5925 - val_accuracy: 0.7076\n",
            "Epoch 13/50\n",
            "48/48 [==============================] - 3s 64ms/step - loss: 0.5775 - accuracy: 0.7247 - val_loss: 0.5886 - val_accuracy: 0.7152\n",
            "Epoch 14/50\n",
            "48/48 [==============================] - 3s 65ms/step - loss: 0.5781 - accuracy: 0.7267 - val_loss: 0.5867 - val_accuracy: 0.7182\n",
            "Epoch 15/50\n",
            "48/48 [==============================] - 3s 65ms/step - loss: 0.5778 - accuracy: 0.7238 - val_loss: 0.5894 - val_accuracy: 0.7116\n",
            "Epoch 16/50\n",
            "48/48 [==============================] - 3s 65ms/step - loss: 0.5770 - accuracy: 0.7254 - val_loss: 0.5862 - val_accuracy: 0.7206\n",
            "Epoch 17/50\n",
            "48/48 [==============================] - 3s 65ms/step - loss: 0.5780 - accuracy: 0.7262 - val_loss: 0.5861 - val_accuracy: 0.7248\n",
            "Epoch 18/50\n",
            "48/48 [==============================] - 3s 65ms/step - loss: 0.5786 - accuracy: 0.7254 - val_loss: 0.5913 - val_accuracy: 0.7160\n",
            "Epoch 19/50\n",
            "48/48 [==============================] - 3s 65ms/step - loss: 0.5781 - accuracy: 0.7271 - val_loss: 0.5937 - val_accuracy: 0.7102\n",
            "Epoch 20/50\n",
            "48/48 [==============================] - 3s 65ms/step - loss: 0.5770 - accuracy: 0.7255 - val_loss: 0.5849 - val_accuracy: 0.7220\n",
            "Epoch 21/50\n",
            "48/48 [==============================] - 3s 65ms/step - loss: 0.5777 - accuracy: 0.7272 - val_loss: 0.5870 - val_accuracy: 0.7160\n",
            "Epoch 22/50\n",
            "48/48 [==============================] - 3s 65ms/step - loss: 0.5767 - accuracy: 0.7255 - val_loss: 0.5922 - val_accuracy: 0.7143\n",
            "Epoch 23/50\n",
            "48/48 [==============================] - 3s 65ms/step - loss: 0.5780 - accuracy: 0.7245 - val_loss: 0.5905 - val_accuracy: 0.7012\n",
            "Epoch 24/50\n",
            "48/48 [==============================] - 3s 65ms/step - loss: 0.5773 - accuracy: 0.7260 - val_loss: 0.5856 - val_accuracy: 0.7213\n",
            "Epoch 25/50\n",
            "48/48 [==============================] - 3s 65ms/step - loss: 0.5773 - accuracy: 0.7257 - val_loss: 0.5908 - val_accuracy: 0.7013\n",
            "Epoch 26/50\n",
            "48/48 [==============================] - 3s 65ms/step - loss: 0.5774 - accuracy: 0.7266 - val_loss: 0.5852 - val_accuracy: 0.7169\n",
            "Epoch 27/50\n",
            "48/48 [==============================] - 3s 64ms/step - loss: 0.5767 - accuracy: 0.7276 - val_loss: 0.5886 - val_accuracy: 0.7053\n",
            "Epoch 28/50\n",
            "48/48 [==============================] - 3s 64ms/step - loss: 0.5772 - accuracy: 0.7273 - val_loss: 0.5860 - val_accuracy: 0.7251\n",
            "Epoch 29/50\n",
            "48/48 [==============================] - 3s 65ms/step - loss: 0.5775 - accuracy: 0.7266 - val_loss: 0.5865 - val_accuracy: 0.7198\n",
            "Epoch 30/50\n",
            "48/48 [==============================] - 3s 65ms/step - loss: 0.5765 - accuracy: 0.7285 - val_loss: 0.5874 - val_accuracy: 0.7128\n",
            "Epoch 31/50\n",
            "48/48 [==============================] - 3s 65ms/step - loss: 0.5768 - accuracy: 0.7283 - val_loss: 0.5853 - val_accuracy: 0.7213\n",
            "Epoch 32/50\n",
            "48/48 [==============================] - 3s 64ms/step - loss: 0.5766 - accuracy: 0.7273 - val_loss: 0.5872 - val_accuracy: 0.7093\n",
            "Epoch 33/50\n",
            "48/48 [==============================] - 3s 65ms/step - loss: 0.5761 - accuracy: 0.7277 - val_loss: 0.5947 - val_accuracy: 0.6978\n",
            "Epoch 34/50\n",
            "48/48 [==============================] - 3s 65ms/step - loss: 0.5768 - accuracy: 0.7282 - val_loss: 0.5880 - val_accuracy: 0.7108\n",
            "Epoch 35/50\n",
            "48/48 [==============================] - 3s 64ms/step - loss: 0.5763 - accuracy: 0.7261 - val_loss: 0.5887 - val_accuracy: 0.7207\n",
            "Epoch 36/50\n",
            "48/48 [==============================] - 3s 64ms/step - loss: 0.5755 - accuracy: 0.7287 - val_loss: 0.5862 - val_accuracy: 0.7145\n",
            "Epoch 37/50\n",
            "48/48 [==============================] - 3s 64ms/step - loss: 0.5759 - accuracy: 0.7285 - val_loss: 0.5865 - val_accuracy: 0.7134\n",
            "Epoch 38/50\n",
            "48/48 [==============================] - 3s 65ms/step - loss: 0.5760 - accuracy: 0.7260 - val_loss: 0.5908 - val_accuracy: 0.7152\n",
            "Epoch 39/50\n",
            "48/48 [==============================] - 3s 65ms/step - loss: 0.5767 - accuracy: 0.7277 - val_loss: 0.5874 - val_accuracy: 0.7181\n",
            "Epoch 40/50\n",
            "48/48 [==============================] - 3s 65ms/step - loss: 0.5765 - accuracy: 0.7286 - val_loss: 0.5875 - val_accuracy: 0.7112\n",
            "Epoch 41/50\n",
            "48/48 [==============================] - 3s 65ms/step - loss: 0.5764 - accuracy: 0.7280 - val_loss: 0.5937 - val_accuracy: 0.7037\n",
            "Epoch 42/50\n",
            "48/48 [==============================] - 3s 65ms/step - loss: 0.5762 - accuracy: 0.7262 - val_loss: 0.5885 - val_accuracy: 0.7169\n",
            "Epoch 43/50\n",
            "48/48 [==============================] - 3s 64ms/step - loss: 0.5761 - accuracy: 0.7285 - val_loss: 0.5850 - val_accuracy: 0.7225\n",
            "Epoch 44/50\n",
            "48/48 [==============================] - 3s 64ms/step - loss: 0.5764 - accuracy: 0.7291 - val_loss: 0.5846 - val_accuracy: 0.7236\n",
            "Epoch 45/50\n",
            "48/48 [==============================] - 3s 65ms/step - loss: 0.5765 - accuracy: 0.7275 - val_loss: 0.5877 - val_accuracy: 0.7132\n",
            "Epoch 46/50\n",
            "48/48 [==============================] - 3s 64ms/step - loss: 0.5766 - accuracy: 0.7284 - val_loss: 0.5841 - val_accuracy: 0.7244\n",
            "Epoch 47/50\n",
            "48/48 [==============================] - 3s 65ms/step - loss: 0.5760 - accuracy: 0.7282 - val_loss: 0.5850 - val_accuracy: 0.7184\n",
            "Epoch 48/50\n",
            "48/48 [==============================] - 3s 65ms/step - loss: 0.5761 - accuracy: 0.7282 - val_loss: 0.5922 - val_accuracy: 0.7099\n",
            "Epoch 49/50\n",
            "48/48 [==============================] - 3s 65ms/step - loss: 0.5755 - accuracy: 0.7270 - val_loss: 0.5923 - val_accuracy: 0.7088\n",
            "Epoch 50/50\n",
            "48/48 [==============================] - 3s 64ms/step - loss: 0.5767 - accuracy: 0.7277 - val_loss: 0.5921 - val_accuracy: 0.6976\n"
          ]
        },
        {
          "data": {
            "text/plain": [
              "158.43920397758484"
            ]
          },
          "execution_count": 21,
          "metadata": {},
          "output_type": "execute_result"
        }
      ],
      "source": [
        "import time\n",
        "\n",
        "start_fit_time = time.time()\n",
        "\n",
        "results = new_model.fit(X_train, y_train, batch_size=32, epochs=50, validation_data=(X_test, y_test))\n",
        "\n",
        "elapsed_fit_time = time.time() - start_fit_time\n",
        "\n",
        "elapsed_fit_time"
      ]
    },
    {
      "cell_type": "markdown",
      "metadata": {
        "id": "5z87bdQtDI3Y"
      },
      "source": [
        "## Gráfico dos Resultados"
      ]
    },
    {
      "cell_type": "code",
      "execution_count": null,
      "metadata": {
        "colab": {
          "base_uri": "https://localhost:8080/",
          "height": 492
        },
        "id": "WSUFY-vkebsN",
        "outputId": "ff340cb7-bf30-415f-d297-483f9e7ba04b"
      },
      "outputs": [
        {
          "data": {
            "image/png": "[encoded data removed]",
            "text/plain": [
              "<Figure size 640x480 with 1 Axes>"
            ]
          },
          "metadata": {},
          "output_type": "display_data"
        },
        {
          "data": {
            "text/plain": [
              "<Figure size 640x480 with 0 Axes>"
            ]
          },
          "metadata": {},
          "output_type": "display_data"
        }
      ],
      "source": [
        "def plot_results(results):\n",
        "  acc = results.history['accuracy']\n",
        "  val_acc = results.history['val_accuracy']\n",
        "  loss = results.history['loss']\n",
        "  val_loss = results.history['val_loss']\n",
        "  epochs = range(len(acc))\n",
        "  plt.plot(epochs, acc, 'g', label='Precisão do conjunto de Treino')\n",
        "  plt.plot(epochs, val_acc, 'b', label='Precisão do conjunto de Validação')\n",
        "  plt.plot(epochs, loss, 'r', label='Perda do conjunto de Treino')\n",
        "  plt.plot(epochs, val_loss, 'm', label='Perda do conjunto de Validação')\n",
        "  plt.title('Precisão dos conjuntos de Treino e Validação')\n",
        "  plt.xlabel('Épocas')\n",
        "  plt.ylabel('Precisão/Perda')\n",
        "  plt.legend(loc=0)\n",
        "  plt.figure()\n",
        "  plt.show()\n",
        "\n",
        "\n",
        "plot_results(results)"
      ]
    }
  ],
  "metadata": {
    "accelerator": "GPU",
    "colab": {
      "gpuType": "A100",
      "machine_shape": "hm",
      "provenance": []
    },
    "kernelspec": {
      "display_name": "Python 3",
      "name": "python3"
    },
    "language_info": {
      "name": "python"
    }
  },
  "nbformat": 4,
  "nbformat_minor": 0
}
