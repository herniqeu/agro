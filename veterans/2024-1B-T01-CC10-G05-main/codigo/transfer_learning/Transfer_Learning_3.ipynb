{
  "cells": [
    {
      "cell_type": "markdown",
      "metadata": {
        "id": "XObCvSyb7xb7"
      },
      "source": [
        "# A de Agro - Pipeline de Processamento e Base de Dados - Sprint 1"
      ]
    },
    {
      "cell_type": "markdown",
      "metadata": {
        "id": "7SL-jT5KHfgM"
      },
      "source": [
        "# Loading data\n",
        "\n"
      ]
    },
    {
      "cell_type": "code",
      "execution_count": null,
      "metadata": {
        "id": "p-_2hN74pFya"
      },
      "outputs": [],
      "source": [
        "import pickle"
      ]
    },
    {
      "cell_type": "code",
      "execution_count": null,
      "metadata": {
        "colab": {
          "base_uri": "https://localhost:8080/"
        },
        "id": "oC4JaTXT0esd",
        "outputId": "a07e4c89-c445-402c-e2bd-bb11687c9cd5"
      },
      "outputs": [
        {
          "name": "stdout",
          "output_type": "stream",
          "text": [
            "Mounted at /content/drive\n"
          ]
        }
      ],
      "source": [
        "from google.colab import drive\n",
        "drive.mount('/content/drive')"
      ]
    },
    {
      "cell_type": "code",
      "execution_count": null,
      "metadata": {
        "id": "Xcp8wWyqVNBl"
      },
      "outputs": [],
      "source": [
        "file_x = open('/content/drive/MyDrive/Satelite Data/loaded_df/X.pkl', 'rb')\n",
        "\n",
        "X = pickle.load(file_x)\n",
        "\n",
        "file_y = open('/content/drive/MyDrive/Satelite Data/loaded_df/Y.pkl', 'rb')\n",
        "\n",
        "Y = pickle.load(file_y)\n",
        "\n",
        "file_x.close()\n",
        "file_y.close()\n"
      ]
    },
    {
      "cell_type": "code",
      "execution_count": null,
      "metadata": {
        "id": "Z1zrPbSo1FyR"
      },
      "outputs": [],
      "source": [
        "import tensorflow as tf"
      ]
    },
    {
      "cell_type": "code",
      "execution_count": null,
      "metadata": {
        "id": "jZiPNcC79NN-"
      },
      "outputs": [],
      "source": [
        "class myCallback(tf.keras.callbacks.Callback):\n",
        "  def on_epoch_end(self, epoch, logs={}):\n",
        "    if(logs.get('accuracy') >= 0.8 or logs.get('val_accuracy') >= 0.8):\n",
        "      print(\"\\nAtingímos uma precisão maior ou igual a 80.0% então podemos parar o treino!\")\n",
        "      self.model.stop_training = True"
      ]
    },
    {
      "cell_type": "markdown",
      "metadata": {
        "id": "4JH_u4yOh46M"
      },
      "source": [
        "# Transfer Learning"
      ]
    },
    {
      "cell_type": "code",
      "execution_count": null,
      "metadata": {
        "colab": {
          "base_uri": "https://localhost:8080/"
        },
        "id": "JDeZYCJ_WRnd",
        "outputId": "e37fe74c-cf8e-4369-de7c-748d25fa09ed"
      },
      "outputs": [
        {
          "name": "stdout",
          "output_type": "stream",
          "text": [
            "(2160, 208, 208, 4)\n"
          ]
        }
      ],
      "source": [
        "import numpy as np\n",
        "\n",
        "# Assuming X is your original array with a shape of (batch_size, 208, 208, 3)\n",
        "batch_size = X.shape[0]  # Get the batch size from X\n",
        "\n",
        "# Create a new channel filled with a constant value, e.g., 1, for all images in the batch\n",
        "new_channel = np.ones((batch_size, 208, 208, 1))  # Note the inclusion of batch_size\n",
        "\n",
        "# Concatenate the new channel to the original array along the last dimension\n",
        "new_X = np.concatenate((X, new_channel), axis=-1)\n",
        "\n",
        "print(new_X.shape)  # This will now correctly print (batch_size, 208, 208, 4)"
      ]
    },
    {
      "cell_type": "code",
      "execution_count": null,
      "metadata": {
        "id": "_m7hbDQdY8r4"
      },
      "outputs": [],
      "source": [
        "from keras import layers\n",
        "from keras import Model\n",
        "from keras.models import Sequential, load_model\n",
        "from keras.optimizers import RMSprop\n",
        "from keras.layers import UpSampling2D, Conv2D"
      ]
    },
    {
      "cell_type": "code",
      "execution_count": null,
      "metadata": {
        "id": "O4jpVf7RXruB"
      },
      "outputs": [],
      "source": [
        "from keras.models import Model\n",
        "from keras.layers import Input\n",
        "\n",
        "### TRANSFER LEARNING\n",
        "\n",
        "# Load the existing model\n",
        "model_path = \"/content/2111a6e4-5a5a-11eb-99e0-0242ac1c0002-FCNDK6-model.h5\"\n",
        "model = load_model(model_path)\n",
        "\n",
        "# New input layer with a different input size\n",
        "input_layer = Input(shape=(208, 208, 4))\n",
        "\n",
        "# Dictionary to keep track of outputs of each layer, starting with the input layer\n",
        "outputs = {model.layers[0].name: input_layer}\n",
        "\n",
        "# Loop through each layer in the original model starting from index 1 (skip input layer)\n",
        "for layer in model.layers[1:]:\n",
        "    # Handle the case for Concatenate layers which require multiple inputs\n",
        "    if 'concat' in layer.name:  # Using a simple check on name to identify concatenate layers\n",
        "        # Gather all inputs for the concatenation from previous layers' outputs\n",
        "        concat_inputs = [outputs[l.name] for l in layer._inbound_nodes[0].inbound_layers]\n",
        "        x = layer(concat_inputs)\n",
        "    else:\n",
        "        # For other layers, handle single or multiple previous layers\n",
        "        prev_layers = layer._inbound_nodes[0].inbound_layers\n",
        "        if isinstance(prev_layers, list):\n",
        "            # If the previous layer outputs to multiple next layers\n",
        "            layer_inputs = [outputs[l.name] for l in prev_layers]\n",
        "            x = layer(layer_inputs[0] if len(layer_inputs) == 1 else layer_inputs)\n",
        "        else:\n",
        "            # Single input from the previous layer's output\n",
        "            x = layer(outputs[prev_layers.name])\n",
        "\n",
        "    # Store the output of each layer in the dictionary\n",
        "    outputs[layer.name] = x\n",
        "\n",
        "# Create a new model from the new input layer and the last layer's output\n",
        "new_model = Model(inputs=input_layer, outputs=x)\n",
        "\n",
        "# Compile the new model\n",
        "new_model.compile(optimizer='adam', loss='categorical_crossentropy', metrics=['accuracy'])\n"
      ]
    },
    {
      "cell_type": "code",
      "execution_count": null,
      "metadata": {
        "colab": {
          "base_uri": "https://localhost:8080/"
        },
        "id": "QiHmDOMHYG_T",
        "outputId": "b79d55ad-ed50-48d2-89de-af1f7b4fabde"
      },
      "outputs": [
        {
          "name": "stdout",
          "output_type": "stream",
          "text": [
            "Model: \"model_31\"\n",
            "_________________________________________________________________\n",
            " Layer (type)                Output Shape              Param #   \n",
            "=================================================================\n",
            " input_16 (InputLayer)       [(None, 208, 208, 4)]     0         \n",
            "                                                                 \n",
            " conv2d (Conv2D)             multiple                  1616      \n",
            "                                                                 \n",
            " batch_normalization (Batch  multiple                  64        \n",
            " Normalization)                                                  \n",
            "                                                                 \n",
            " leaky_re_lu (LeakyReLU)     multiple                  0         \n",
            "                                                                 \n",
            " zero_padding2d_1 (ZeroPadd  multiple                  0         \n",
            " ing2D)                                                          \n",
            "                                                                 \n",
            " conv2d_1 (Conv2D)           multiple                  12832     \n",
            "                                                                 \n",
            " batch_normalization_1 (Bat  multiple                  128       \n",
            " chNormalization)                                                \n",
            "                                                                 \n",
            " leaky_re_lu_1 (LeakyReLU)   multiple                  0         \n",
            "                                                                 \n",
            " zero_padding2d_2 (ZeroPadd  multiple                  0         \n",
            " ing2D)                                                          \n",
            "                                                                 \n",
            " conv2d_2 (Conv2D)           multiple                  25632     \n",
            "                                                                 \n",
            " batch_normalization_2 (Bat  multiple                  128       \n",
            " chNormalization)                                                \n",
            "                                                                 \n",
            " leaky_re_lu_2 (LeakyReLU)   multiple                  0         \n",
            "                                                                 \n",
            " zero_padding2d_3 (ZeroPadd  multiple                  0         \n",
            " ing2D)                                                          \n",
            "                                                                 \n",
            " conv2d_3 (Conv2D)           multiple                  25632     \n",
            "                                                                 \n",
            " batch_normalization_3 (Bat  multiple                  128       \n",
            " chNormalization)                                                \n",
            "                                                                 \n",
            " leaky_re_lu_3 (LeakyReLU)   multiple                  0         \n",
            "                                                                 \n",
            " zero_padding2d_4 (ZeroPadd  multiple                  0         \n",
            " ing2D)                                                          \n",
            "                                                                 \n",
            " conv2d_4 (Conv2D)           multiple                  25632     \n",
            "                                                                 \n",
            " batch_normalization_4 (Bat  multiple                  128       \n",
            " chNormalization)                                                \n",
            "                                                                 \n",
            " leaky_re_lu_4 (LeakyReLU)   multiple                  0         \n",
            "                                                                 \n",
            " zero_padding2d_5 (ZeroPadd  multiple                  0         \n",
            " ing2D)                                                          \n",
            "                                                                 \n",
            " conv2d_5 (Conv2D)           multiple                  25632     \n",
            "                                                                 \n",
            " batch_normalization_5 (Bat  multiple                  128       \n",
            " chNormalization)                                                \n",
            "                                                                 \n",
            " leaky_re_lu_5 (LeakyReLU)   multiple                  0         \n",
            "                                                                 \n",
            " conv2d_6 (Conv2D)           multiple                  66        \n",
            "                                                                 \n",
            " activation (Activation)     multiple                  0         \n",
            "                                                                 \n",
            "=================================================================\n",
            "Total params: 117746 (459.95 KB)\n",
            "Trainable params: 117394 (458.57 KB)\n",
            "Non-trainable params: 352 (1.38 KB)\n",
            "_________________________________________________________________\n"
          ]
        }
      ],
      "source": [
        "new_model.summary()\n"
      ]
    },
    {
      "cell_type": "code",
      "execution_count": null,
      "metadata": {
        "colab": {
          "base_uri": "https://localhost:8080/"
        },
        "id": "JOY86r4fZLW5",
        "outputId": "fdf6e392-ebfb-4cd5-b6e6-8791cfd27eb5"
      },
      "outputs": [
        {
          "name": "stdout",
          "output_type": "stream",
          "text": [
            "Total de parâmetros no modelo é de 117,746.\n",
            "Total de parâmetros que podem ser treinados no modelo são 117,394.\n"
          ]
        }
      ],
      "source": [
        "total_params = new_model.count_params()\n",
        "num_trainable_params = sum([w.shape.num_elements() for w in new_model.trainable_weights])\n",
        "\n",
        "print(f\"Total de parâmetros no modelo é de {total_params:,}.\")\n",
        "print(f\"Total de parâmetros que podem ser treinados no modelo são {num_trainable_params:,}.\")"
      ]
    },
    {
      "cell_type": "code",
      "execution_count": null,
      "metadata": {
        "colab": {
          "base_uri": "https://localhost:8080/"
        },
        "id": "bNFAoD0pZNSD",
        "outputId": "0ee589c9-9799-4e76-86f0-00eff2ccd6e5"
      },
      "outputs": [
        {
          "name": "stdout",
          "output_type": "stream",
          "text": [
            "Output tensor dimension for node 0: (None, 204, 204, 32)\n"
          ]
        }
      ],
      "source": [
        "#last_desired_layer = pre_trained_model.get_layer('mixed5') #Escolha a camada para \"colar\" o seu modelo.\n",
        "last_desired_layer = model.get_layer('conv2d_5')\n",
        "# Example: Fetching output tensor from the first node\n",
        "last_output = last_desired_layer.get_output_at(1)\n",
        "print(\"Output tensor dimension for node 0:\", last_output.shape)\n"
      ]
    },
    {
      "cell_type": "code",
      "execution_count": null,
      "metadata": {
        "id": "Lye08JjmnW5m"
      },
      "outputs": [],
      "source": [
        "import tensorflow as tf\n",
        "\n",
        "# Define F1 score function\n",
        "def f1_score(y_true, y_pred):\n",
        "    y_pred_binary = tf.round(y_pred)  # Convert probabilities to binary values (0 or 1)\n",
        "\n",
        "    tp = tf.reduce_sum(tf.cast(y_true * y_pred_binary, dtype=tf.float32))\n",
        "    predicted_positive = tf.reduce_sum(tf.cast(y_pred_binary, dtype=tf.float32))\n",
        "    actual_positive = tf.reduce_sum(tf.cast(y_true, dtype=tf.float32))\n",
        "\n",
        "    precision = tp / (predicted_positive + tf.keras.backend.epsilon())\n",
        "    recall = tp / (actual_positive + tf.keras.backend.epsilon())\n",
        "    f1 = 2 * (precision * recall) / (precision + recall + tf.keras.backend.epsilon())\n",
        "\n",
        "    return f1\n"
      ]
    },
    {
      "cell_type": "code",
      "execution_count": null,
      "metadata": {
        "colab": {
          "base_uri": "https://localhost:8080/"
        },
        "id": "GiPv3IDFrjxm",
        "outputId": "b8283840-2a5f-4f34-c006-b242d3bb1038"
      },
      "outputs": [
        {
          "data": {
            "text/plain": [
              "<KerasTensor: shape=(None, 204, 204, 32) dtype=float32 (created by layer 'conv2d_5')>"
            ]
          },
          "execution_count": 160,
          "metadata": {},
          "output_type": "execute_result"
        }
      ],
      "source": [
        "last_output"
      ]
    },
    {
      "cell_type": "code",
      "execution_count": null,
      "metadata": {
        "id": "6hdfGqQteD_j"
      },
      "outputs": [],
      "source": [
        "x = layers.Flatten()(last_output)\n",
        "# Assuming last_output is from a convolutional layer and has 4 dimensions\n",
        "x = layers.Dropout(0.3)(last_output)  # Apply dropout to the convolutional output\n",
        "\n",
        "# Continue with convolutional layers\n",
        "x = layers.Conv2D(32, 3, activation='relu', padding='same', kernel_initializer='he_normal', name=\"conv2d_19\")(x)\n",
        "x = layers.Conv2D(2, 1, padding='same', name=\"conv2d_20\")(x)\n",
        "x = UpSampling2D(size=(2, 2))(x)\n",
        "x = layers.Activation('softmax', name='softmax_activation')(x)\n",
        "cut_model = Model(new_model.input, x)\n",
        "cut_model.compile(optimizer=tf.keras.optimizers.Adam(),\n",
        "             loss=tf.keras.losses.SparseCategoricalCrossentropy(from_logits=True),\n",
        "              metrics=['accuracy'])"
      ]
    },
    {
      "cell_type": "code",
      "execution_count": null,
      "metadata": {
        "colab": {
          "base_uri": "https://localhost:8080/"
        },
        "id": "tstZBD1hZRAF",
        "outputId": "165e9d0a-837b-47cc-bb83-3b98db4ebca8"
      },
      "outputs": [
        {
          "name": "stdout",
          "output_type": "stream",
          "text": [
            "Model: \"model_32\"\n",
            "_________________________________________________________________\n",
            " Layer (type)                Output Shape              Param #   \n",
            "=================================================================\n",
            " input_16 (InputLayer)       [(None, 208, 208, 4)]     0         \n",
            "                                                                 \n",
            " conv2d (Conv2D)             multiple                  1616      \n",
            "                                                                 \n",
            " batch_normalization (Batch  multiple                  64        \n",
            " Normalization)                                                  \n",
            "                                                                 \n",
            " leaky_re_lu (LeakyReLU)     multiple                  0         \n",
            "                                                                 \n",
            " zero_padding2d_1 (ZeroPadd  multiple                  0         \n",
            " ing2D)                                                          \n",
            "                                                                 \n",
            " conv2d_1 (Conv2D)           multiple                  12832     \n",
            "                                                                 \n",
            " batch_normalization_1 (Bat  multiple                  128       \n",
            " chNormalization)                                                \n",
            "                                                                 \n",
            " leaky_re_lu_1 (LeakyReLU)   multiple                  0         \n",
            "                                                                 \n",
            " zero_padding2d_2 (ZeroPadd  multiple                  0         \n",
            " ing2D)                                                          \n",
            "                                                                 \n",
            " conv2d_2 (Conv2D)           multiple                  25632     \n",
            "                                                                 \n",
            " batch_normalization_2 (Bat  multiple                  128       \n",
            " chNormalization)                                                \n",
            "                                                                 \n",
            " leaky_re_lu_2 (LeakyReLU)   multiple                  0         \n",
            "                                                                 \n",
            " zero_padding2d_3 (ZeroPadd  multiple                  0         \n",
            " ing2D)                                                          \n",
            "                                                                 \n",
            " conv2d_3 (Conv2D)           multiple                  25632     \n",
            "                                                                 \n",
            " batch_normalization_3 (Bat  multiple                  128       \n",
            " chNormalization)                                                \n",
            "                                                                 \n",
            " leaky_re_lu_3 (LeakyReLU)   multiple                  0         \n",
            "                                                                 \n",
            " zero_padding2d_4 (ZeroPadd  multiple                  0         \n",
            " ing2D)                                                          \n",
            "                                                                 \n",
            " conv2d_4 (Conv2D)           multiple                  25632     \n",
            "                                                                 \n",
            " batch_normalization_4 (Bat  multiple                  128       \n",
            " chNormalization)                                                \n",
            "                                                                 \n",
            " leaky_re_lu_4 (LeakyReLU)   multiple                  0         \n",
            "                                                                 \n",
            " zero_padding2d_5 (ZeroPadd  multiple                  0         \n",
            " ing2D)                                                          \n",
            "                                                                 \n",
            " conv2d_5 (Conv2D)           multiple                  25632     \n",
            "                                                                 \n",
            " dropout_19 (Dropout)        (None, 204, 204, 32)      0         \n",
            "                                                                 \n",
            " conv2d_19 (Conv2D)          (None, 204, 204, 32)      9248      \n",
            "                                                                 \n",
            " conv2d_20 (Conv2D)          (None, 204, 204, 2)       66        \n",
            "                                                                 \n",
            " up_sampling2d_11 (UpSampli  (None, 408, 408, 2)       0         \n",
            " ng2D)                                                           \n",
            "                                                                 \n",
            " softmax_activation (Activa  (None, 408, 408, 2)       0         \n",
            " tion)                                                           \n",
            "                                                                 \n",
            "=================================================================\n",
            "Total params: 126866 (495.57 KB)\n",
            "Trainable params: 126578 (494.45 KB)\n",
            "Non-trainable params: 288 (1.12 KB)\n",
            "_________________________________________________________________\n"
          ]
        }
      ],
      "source": [
        "cut_model.summary()"
      ]
    },
    {
      "cell_type": "code",
      "execution_count": null,
      "metadata": {
        "colab": {
          "base_uri": "https://localhost:8080/"
        },
        "id": "ulo5glmqiZif",
        "outputId": "76a6c189-0eac-4c3c-940b-208eb17f7472"
      },
      "outputs": [
        {
          "name": "stdout",
          "output_type": "stream",
          "text": [
            "Total de parâmetros no modelo é de 126,866.\n",
            "Total de parâmetros que podem ser treinados no modelo são 126,578.\n"
          ]
        }
      ],
      "source": [
        "total_params = cut_model.count_params()\n",
        "num_trainable_params = sum([w.shape.num_elements() for w in cut_model.trainable_weights])\n",
        "\n",
        "print(f\"Total parâmetros: {total_params:,}.\")\n",
        "print(f\"Parâmetros treináveis: {num_trainable_params:,}.\")"
      ]
    },
    {
      "cell_type": "code",
      "execution_count": null,
      "metadata": {
        "id": "m7NY2mRh1a1x"
      },
      "outputs": [],
      "source": [
        "from sklearn.model_selection import train_test_split"
      ]
    },
    {
      "cell_type": "code",
      "execution_count": null,
      "metadata": {
        "id": "Iwwpyg5BcXRv"
      },
      "outputs": [],
      "source": [
        "X_train, X_test, y_train, y_test = train_test_split(new_X, Y, test_size=0.3)"
      ]
    },
    {
      "cell_type": "code",
      "execution_count": null,
      "metadata": {
        "colab": {
          "base_uri": "https://localhost:8080/",
          "height": 755
        },
        "id": "ShKF9ViuZg94",
        "outputId": "dbc32692-c55c-4c86-bb4a-9607892d7a83"
      },
      "outputs": [
        {
          "name": "stdout",
          "output_type": "stream",
          "text": [
            "Epoch 1/50\n"
          ]
        },
        {
          "ename": "ValueError",
          "evalue": "in user code:\n\n    File \"/usr/local/lib/python3.10/dist-packages/keras/src/engine/training.py\", line 1401, in train_function  *\n        return step_function(self, iterator)\n    File \"/usr/local/lib/python3.10/dist-packages/keras/src/engine/training.py\", line 1384, in step_function  **\n        outputs = model.distribute_strategy.run(run_step, args=(data,))\n    File \"/usr/local/lib/python3.10/dist-packages/keras/src/engine/training.py\", line 1373, in run_step  **\n        outputs = model.train_step(data)\n    File \"/usr/local/lib/python3.10/dist-packages/keras/src/engine/training.py\", line 1155, in train_step\n        return self.compute_metrics(x, y, y_pred, sample_weight)\n    File \"/usr/local/lib/python3.10/dist-packages/keras/src/engine/training.py\", line 1249, in compute_metrics\n        self.compiled_metrics.update_state(y, y_pred, sample_weight)\n    File \"/usr/local/lib/python3.10/dist-packages/keras/src/engine/compile_utils.py\", line 620, in update_state\n        metric_obj.update_state(y_t, y_p, sample_weight=mask)\n    File \"/usr/local/lib/python3.10/dist-packages/keras/src/utils/metrics_utils.py\", line 77, in decorated\n        result = update_state_fn(*args, **kwargs)\n    File \"/usr/local/lib/python3.10/dist-packages/keras/src/metrics/base_metric.py\", line 140, in update_state_fn\n        return ag_update_state(*args, **kwargs)\n    File \"/usr/local/lib/python3.10/dist-packages/keras/src/metrics/base_metric.py\", line 723, in update_state  **\n        matches = ag_fn(y_true, y_pred, **self._fn_kwargs)\n    File \"/usr/local/lib/python3.10/dist-packages/keras/src/metrics/accuracy_metrics.py\", line 459, in sparse_categorical_accuracy\n        matches = metrics_utils.sparse_categorical_matches(y_true, y_pred)\n    File \"/usr/local/lib/python3.10/dist-packages/keras/src/utils/metrics_utils.py\", line 969, in sparse_categorical_matches\n        matches = tf.cast(tf.equal(y_true, y_pred), backend.floatx())\n\n    ValueError: Dimensions must be equal, but are 208 and 408 for '{{node Equal}} = Equal[T=DT_FLOAT, incompatible_shape_error=true](Squeeze, Cast_2)' with input shapes: [?,208,208], [?,408,408].\n",
          "output_type": "error",
          "traceback": [
            "\u001b[0;31m---------------------------------------------------------------------------\u001b[0m",
            "\u001b[0;31mValueError\u001b[0m                                Traceback (most recent call last)",
            "\u001b[0;32m<ipython-input-166-a7d04d2c1228>\u001b[0m in \u001b[0;36m<cell line: 1>\u001b[0;34m()\u001b[0m\n\u001b[0;32m----> 1\u001b[0;31m \u001b[0mresults\u001b[0m \u001b[0;34m=\u001b[0m \u001b[0mcut_model\u001b[0m\u001b[0;34m.\u001b[0m\u001b[0mfit\u001b[0m\u001b[0;34m(\u001b[0m\u001b[0mX_train\u001b[0m\u001b[0;34m,\u001b[0m \u001b[0my_train\u001b[0m\u001b[0;34m,\u001b[0m \u001b[0mbatch_size\u001b[0m\u001b[0;34m=\u001b[0m\u001b[0;36m32\u001b[0m\u001b[0;34m,\u001b[0m \u001b[0mepochs\u001b[0m\u001b[0;34m=\u001b[0m\u001b[0;36m50\u001b[0m\u001b[0;34m,\u001b[0m \u001b[0mvalidation_data\u001b[0m\u001b[0;34m=\u001b[0m\u001b[0;34m(\u001b[0m\u001b[0mX_test\u001b[0m\u001b[0;34m,\u001b[0m \u001b[0my_test\u001b[0m\u001b[0;34m)\u001b[0m\u001b[0;34m)\u001b[0m\u001b[0;34m\u001b[0m\u001b[0;34m\u001b[0m\u001b[0m\n\u001b[0m",
            "\u001b[0;32m/usr/local/lib/python3.10/dist-packages/keras/src/utils/traceback_utils.py\u001b[0m in \u001b[0;36merror_handler\u001b[0;34m(*args, **kwargs)\u001b[0m\n\u001b[1;32m     68\u001b[0m             \u001b[0;31m# To get the full stack trace, call:\u001b[0m\u001b[0;34m\u001b[0m\u001b[0;34m\u001b[0m\u001b[0m\n\u001b[1;32m     69\u001b[0m             \u001b[0;31m# `tf.debugging.disable_traceback_filtering()`\u001b[0m\u001b[0;34m\u001b[0m\u001b[0;34m\u001b[0m\u001b[0m\n\u001b[0;32m---> 70\u001b[0;31m             \u001b[0;32mraise\u001b[0m \u001b[0me\u001b[0m\u001b[0;34m.\u001b[0m\u001b[0mwith_traceback\u001b[0m\u001b[0;34m(\u001b[0m\u001b[0mfiltered_tb\u001b[0m\u001b[0;34m)\u001b[0m \u001b[0;32mfrom\u001b[0m \u001b[0;32mNone\u001b[0m\u001b[0;34m\u001b[0m\u001b[0;34m\u001b[0m\u001b[0m\n\u001b[0m\u001b[1;32m     71\u001b[0m         \u001b[0;32mfinally\u001b[0m\u001b[0;34m:\u001b[0m\u001b[0;34m\u001b[0m\u001b[0;34m\u001b[0m\u001b[0m\n\u001b[1;32m     72\u001b[0m             \u001b[0;32mdel\u001b[0m \u001b[0mfiltered_tb\u001b[0m\u001b[0;34m\u001b[0m\u001b[0;34m\u001b[0m\u001b[0m\n",
            "\u001b[0;32m/usr/local/lib/python3.10/dist-packages/keras/src/engine/training.py\u001b[0m in \u001b[0;36mtf__train_function\u001b[0;34m(iterator)\u001b[0m\n\u001b[1;32m     13\u001b[0m                 \u001b[0;32mtry\u001b[0m\u001b[0;34m:\u001b[0m\u001b[0;34m\u001b[0m\u001b[0;34m\u001b[0m\u001b[0m\n\u001b[1;32m     14\u001b[0m                     \u001b[0mdo_return\u001b[0m \u001b[0;34m=\u001b[0m \u001b[0;32mTrue\u001b[0m\u001b[0;34m\u001b[0m\u001b[0;34m\u001b[0m\u001b[0m\n\u001b[0;32m---> 15\u001b[0;31m                     \u001b[0mretval_\u001b[0m \u001b[0;34m=\u001b[0m \u001b[0mag__\u001b[0m\u001b[0;34m.\u001b[0m\u001b[0mconverted_call\u001b[0m\u001b[0;34m(\u001b[0m\u001b[0mag__\u001b[0m\u001b[0;34m.\u001b[0m\u001b[0mld\u001b[0m\u001b[0;34m(\u001b[0m\u001b[0mstep_function\u001b[0m\u001b[0;34m)\u001b[0m\u001b[0;34m,\u001b[0m \u001b[0;34m(\u001b[0m\u001b[0mag__\u001b[0m\u001b[0;34m.\u001b[0m\u001b[0mld\u001b[0m\u001b[0;34m(\u001b[0m\u001b[0mself\u001b[0m\u001b[0;34m)\u001b[0m\u001b[0;34m,\u001b[0m \u001b[0mag__\u001b[0m\u001b[0;34m.\u001b[0m\u001b[0mld\u001b[0m\u001b[0;34m(\u001b[0m\u001b[0miterator\u001b[0m\u001b[0;34m)\u001b[0m\u001b[0;34m)\u001b[0m\u001b[0;34m,\u001b[0m \u001b[0;32mNone\u001b[0m\u001b[0;34m,\u001b[0m \u001b[0mfscope\u001b[0m\u001b[0;34m)\u001b[0m\u001b[0;34m\u001b[0m\u001b[0;34m\u001b[0m\u001b[0m\n\u001b[0m\u001b[1;32m     16\u001b[0m                 \u001b[0;32mexcept\u001b[0m\u001b[0;34m:\u001b[0m\u001b[0;34m\u001b[0m\u001b[0;34m\u001b[0m\u001b[0m\n\u001b[1;32m     17\u001b[0m                     \u001b[0mdo_return\u001b[0m \u001b[0;34m=\u001b[0m \u001b[0;32mFalse\u001b[0m\u001b[0;34m\u001b[0m\u001b[0;34m\u001b[0m\u001b[0m\n",
            "\u001b[0;31mValueError\u001b[0m: in user code:\n\n    File \"/usr/local/lib/python3.10/dist-packages/keras/src/engine/training.py\", line 1401, in train_function  *\n        return step_function(self, iterator)\n    File \"/usr/local/lib/python3.10/dist-packages/keras/src/engine/training.py\", line 1384, in step_function  **\n        outputs = model.distribute_strategy.run(run_step, args=(data,))\n    File \"/usr/local/lib/python3.10/dist-packages/keras/src/engine/training.py\", line 1373, in run_step  **\n        outputs = model.train_step(data)\n    File \"/usr/local/lib/python3.10/dist-packages/keras/src/engine/training.py\", line 1155, in train_step\n        return self.compute_metrics(x, y, y_pred, sample_weight)\n    File \"/usr/local/lib/python3.10/dist-packages/keras/src/engine/training.py\", line 1249, in compute_metrics\n        self.compiled_metrics.update_state(y, y_pred, sample_weight)\n    File \"/usr/local/lib/python3.10/dist-packages/keras/src/engine/compile_utils.py\", line 620, in update_state\n        metric_obj.update_state(y_t, y_p, sample_weight=mask)\n    File \"/usr/local/lib/python3.10/dist-packages/keras/src/utils/metrics_utils.py\", line 77, in decorated\n        result = update_state_fn(*args, **kwargs)\n    File \"/usr/local/lib/python3.10/dist-packages/keras/src/metrics/base_metric.py\", line 140, in update_state_fn\n        return ag_update_state(*args, **kwargs)\n    File \"/usr/local/lib/python3.10/dist-packages/keras/src/metrics/base_metric.py\", line 723, in update_state  **\n        matches = ag_fn(y_true, y_pred, **self._fn_kwargs)\n    File \"/usr/local/lib/python3.10/dist-packages/keras/src/metrics/accuracy_metrics.py\", line 459, in sparse_categorical_accuracy\n        matches = metrics_utils.sparse_categorical_matches(y_true, y_pred)\n    File \"/usr/local/lib/python3.10/dist-packages/keras/src/utils/metrics_utils.py\", line 969, in sparse_categorical_matches\n        matches = tf.cast(tf.equal(y_true, y_pred), backend.floatx())\n\n    ValueError: Dimensions must be equal, but are 208 and 408 for '{{node Equal}} = Equal[T=DT_FLOAT, incompatible_shape_error=true](Squeeze, Cast_2)' with input shapes: [?,208,208], [?,408,408].\n"
          ]
        }
      ],
      "source": [
        "results = cut_model.fit(X_train, y_train, batch_size=32, epochs=50, validation_data=(X_test, y_test))"
      ]
    },
    {
      "cell_type": "markdown",
      "metadata": {},
      "source": [
        "[MODELO EM DESENVOLVIMENTO]\n",
        "Não conseguimos achar uma camada no modelo prétrinado cujo output se adequasse ao requisitado pelas últimas camadas (e de saída) do modelo base desenvolvido pelo grupo."
      ]
    }
  ],
  "metadata": {
    "accelerator": "GPU",
    "colab": {
      "collapsed_sections": [
        "4JH_u4yOh46M"
      ],
      "gpuType": "A100",
      "machine_shape": "hm",
      "provenance": []
    },
    "kernelspec": {
      "display_name": "Python 3",
      "name": "python3"
    },
    "language_info": {
      "name": "python"
    }
  },
  "nbformat": 4,
  "nbformat_minor": 0
}
