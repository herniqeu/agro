{
  "cells": [
    {
      "cell_type": "markdown",
      "metadata": {
        "id": "KryM_y9vLyTH"
      },
      "source": [
        "# Plot Segmentation in Agriculture Using Computer Vision Techniques: A Scientific Approach\n",
        "\n",
        "In the realm of precision agriculture, plot segmentation plays a pivotal role in crop management and yield optimization. This Jupyter Notebook presents a comprehensive workflow for segmenting agricultural plots by harnessing the power of computer vision and image processing techniques. We demonstrate the integration of image manipulation, filtering, and augmentation to extract meaningful insights from agricultural imagery.\n"
      ]
    },
    {
      "cell_type": "markdown",
      "metadata": {
        "id": "hx4FTel7-ooR"
      },
      "source": [
        "\n",
        "## Table of Contents\n",
        "1. [Setup and Data Preparation](#section1)\n",
        "   - [Initial Imports](#subsection1-1)\n",
        "   - [Drive Mounting](#subsection1-2)\n",
        "2. [Execution of Processing Pipeline](#section2)\n",
        "   - [Pipeline Configuration](#subsection2-1)\n",
        "   - [Visualizing Objects](#subsection2-2)\n",
        "   - [Loading Resources as `np.array`](#subsection2-3)\n",
        "3. [Model Training](#section3)\n",
        "4. [Model Evaluation and Visualization](#section4)\n",
        "5. [Fine Tuning and Hyperparameter Optimization](#section5)\n",
        "   - [Early Stopping](#subsection5-1)\n",
        "   - [Optuna Optimization](#subsection5-2)"
      ]
    },
    {
      "cell_type": "markdown",
      "metadata": {
        "id": "VN0UHe5ML2je"
      },
      "source": [
        "# Section 1: Setup and Data Preparation\n"
      ]
    },
    {
      "cell_type": "markdown",
      "metadata": {
        "id": "ooClcRWfL7Hv"
      },
      "source": [
        "## Initial Imports"
      ]
    },
    {
      "cell_type": "markdown",
      "metadata": {
        "id": "22KBCXnhL8I5"
      },
      "source": [
        "Here we import necessary libraries such as OpenCV, NumPy, and Matplotlib. These libraries provide us with the tools required for image manipulation and visualization.\n"
      ]
    },
    {
      "cell_type": "code",
      "execution_count": null,
      "metadata": {
        "colab": {
          "base_uri": "https://localhost:8080/"
        },
        "id": "MC-l_5pUuulC",
        "outputId": "c2e412e3-f384-449e-8032-55b87b552de0"
      },
      "outputs": [],
      "source": [
        "!pip install optuna -q\n",
        "!pip install imagehash -q\n",
        "!pip install tensorflow -q\n",
        "!pip install early_stopping -q"
      ]
    },
    {
      "cell_type": "code",
      "execution_count": null,
      "metadata": {
        "id": "jQNHvUmeL_sn"
      },
      "outputs": [],
      "source": [
        "import os\n",
        "import sys\n",
        "import math\n",
        "import copy\n",
        "import time\n",
        "import torch\n",
        "import random\n",
        "import psutil\n",
        "import optuna\n",
        "import imagehash\n",
        "import subprocess\n",
        "\n",
        "import torch.nn.functional  as F\n",
        "import keras                as K\n",
        "import cv2                  as cv\n",
        "import numpy                as np\n",
        "import tensorflow           as tf\n",
        "import torch.nn             as nn\n",
        "import matplotlib.pyplot    as plt\n",
        "import torch.optim          as optim\n",
        "\n",
        "from google.colab           import drive\n",
        "from torchvision            import models\n",
        "from torchsummary           import summary\n",
        "from scipy.ndimage          import convolve\n",
        "from torch.utils.data       import DataLoader\n",
        "from torchvision            import transforms\n",
        "from keras.models           import Sequential\n",
        "from PIL                    import Image, ImageTk\n",
        "from tensorflow             import data as tf_data\n",
        "from torch.utils.data       import DataLoader, Dataset\n",
        "from keras                  import optimizers, callbacks, Model\n",
        "from keras.layers           import Conv2D, Input, MaxPooling2D, Flatten, Dense, Dropout, BatchNormalization, Activation, SeparableConv2D, Conv2DTranspose, UpSampling2D, add\n",
        "\n",
        "\n",
        "from Helper                 import *\n",
        "from BaseImageProcess       import *\n",
        "from NeuralNetwork          import *\n",
        "from optuna.trial           import TrialState\n",
        "from Visualizer             import Visualizer\n",
        "from ImageDataManager       import ImageDataManager\n",
        "from ProcessingPipeline     import ProcessingPipeline\n",
        "from Loader                 import get_masks_and_images_as_np_array"
      ]
    },
    {
      "cell_type": "markdown",
      "metadata": {
        "id": "9LMMUDfXMeHN"
      },
      "source": [
        "## Drive Mounting"
      ]
    },
    {
      "cell_type": "markdown",
      "metadata": {
        "id": "VU0SrWzvMkt-"
      },
      "source": [
        "Here we mount the Google Drive to access the dataset."
      ]
    },
    {
      "cell_type": "code",
      "execution_count": null,
      "metadata": {
        "colab": {
          "base_uri": "https://localhost:8080/"
        },
        "id": "SEBLB-QLMgS3",
        "outputId": "6116d8dd-a636-4a19-865a-f6e4257e7648"
      },
      "outputs": [],
      "source": [
        "drive.mount('/content/drive')"
      ]
    },
    {
      "cell_type": "markdown",
      "metadata": {
        "id": "rrmJnEX6RTN6"
      },
      "source": [
        "# Section 2: Execution of Processing Pipeline"
      ]
    },
    {
      "cell_type": "markdown",
      "metadata": {
        "id": "wjMhNLOmSB8H"
      },
      "source": [
        "## Pipeline Configuration\n",
        "\n",
        "Set up the processing pipeline by selecting the desired filters and augmentations. This configuration will determine how the images are processed and enhanced.\n"
      ]
    },
    {
      "cell_type": "code",
      "execution_count": null,
      "metadata": {
        "id": "eotK8LxWSEY4"
      },
      "outputs": [],
      "source": [
        "pipeline = ProcessingPipeline()\n",
        "pipeline.add_augmentations([Rotate(), Translate(), Flip(), BrightnessContrast(), RandomGaussianBlur(), MedianBlur()])"
      ]
    },
    {
      "cell_type": "code",
      "execution_count": null,
      "metadata": {
        "collapsed": true,
        "id": "izH50UaKUm3A"
      },
      "outputs": [],
      "source": [
        "base_masks_path = \"/content/drive/MyDrive/Images/cross_training_masks\"\n",
        "base_inputs_path = \"/content/drive/MyDrive/Images/cross_training_inputs\"\n",
        "image_data_manager = ImageDataManager(base_masks_path, base_inputs_path)"
      ]
    },
    {
      "cell_type": "markdown",
      "metadata": {
        "id": "3utdv8LfhCDt"
      },
      "source": [
        "## Loading resources"
      ]
    },
    {
      "cell_type": "code",
      "execution_count": null,
      "metadata": {
        "colab": {
          "base_uri": "https://localhost:8080/"
        },
        "id": "-4NJg-iWVD9W",
        "outputId": "c74040d6-d418-407e-d3dd-1467aacddd44"
      },
      "outputs": [],
      "source": [
        "import cv2\n",
        "import numpy as np\n",
        "\n",
        "RAW_IMAGE_SIZE = [1200, 600]\n",
        "CROP_SIZE = 120\n",
        "IMAGE_SIZE = (CROP_SIZE, CROP_SIZE)\n",
        "TEST_SET_SIZE_AS_PERCENTAGE = 0.5\n",
        "BATCH_SIZE = 1\n",
        "\n",
        "masks_as_np_array = []\n",
        "images_as_np_array = []\n",
        "\n",
        "for key in sorted(image_data_manager.objects.keys()):\n",
        "    images = image_data_manager.objects[key]['images']\n",
        "    mask = image_data_manager.objects[key]['mask']\n",
        "\n",
        "    filtered_images = []\n",
        "\n",
        "    for image in images:\n",
        "        if image.shape[1] in RAW_IMAGE_SIZE:\n",
        "            image = np.transpose(image, (1, 2, 0))\n",
        "            if image.shape[2] == 1:\n",
        "                image = np.repeat(image, 3, axis=2)\n",
        "            filtered_images.append(image)\n",
        "\n",
        "    image_data_manager.objects[key]['images'] = filtered_images\n",
        "\n",
        "    image = filtered_images[-1]\n",
        "    n_crop = image.shape[0] // CROP_SIZE\n",
        "    images, masks, coordinates = pipeline.run(image, mask, crop_size=CROP_SIZE, n_crop=n_crop, n_augmented=0)\n",
        "\n",
        "    masks_as_np_array.extend(masks)\n",
        "    images_as_np_array.extend(images)\n",
        "\n",
        "# Grayscale Images\n",
        "coefficients = [0.2989, 0.5870, 0.1140]\n",
        "images_as_np_array = [np.dot(image[..., :3], coefficients) for image in images_as_np_array]\n",
        "\n",
        "# Threshold Masks\n",
        "masks_as_np_array = np.where(np.array(masks_as_np_array) > 0.2, 1, 0)\n",
        "\n",
        "# Make random order\n",
        "#perm = np.random.permutation(len(images_as_np_array))\n",
        "#images_as_np_array = [images_as_np_array[i] for i in perm]\n",
        "#masks_as_np_array = [masks_as_np_array[i] for i in perm]\n",
        "\n",
        "print(f\"Loaded {len(images_as_np_array)} images\")"
      ]
    },
    {
      "cell_type": "markdown",
      "metadata": {
        "id": "PwUUtBxJ_ToF"
      },
      "source": [
        "# Section 3: Model Training"
      ]
    },
    {
      "cell_type": "code",
      "execution_count": null,
      "metadata": {
        "id": "3YxXNLD_bU4k"
      },
      "outputs": [],
      "source": [
        "device = torch.device('cuda' if torch.cuda.is_available() else 'cpu')"
      ]
    },
    {
      "cell_type": "code",
      "execution_count": null,
      "metadata": {
        "colab": {
          "base_uri": "https://localhost:8080/"
        },
        "id": "gxWTTNoODP7C",
        "outputId": "74652f79-8943-4ab9-8148-62806e9b082a"
      },
      "outputs": [],
      "source": [
        "start_time = time.time()\n",
        "model = ResUNet(n_channels=1, n_classes=2, dropout=0.2).to(device)\n",
        "\n",
        "# Move model to GPU\n",
        "model = model.to(device)\n",
        "\n",
        "# Set the model in train mode\n",
        "model.train()\n",
        "\n",
        "# Define the preprocessing steps\n",
        "preprocess = transforms.Compose([\n",
        "    transforms.ToTensor(),\n",
        "    transforms.Normalize(mean=[0.485], std=[0.229]),\n",
        "    #transforms.Normalize(mean=[0.485, 0.456, 0.406], std=[0.229, 0.224, 0.225]),\n",
        "])\n",
        "\n",
        "# Split your data into training and testing sets\n",
        "val_samples = int(len(images_as_np_array) * TEST_SET_SIZE_AS_PERCENTAGE)\n",
        "\n",
        "train_x = images_as_np_array\n",
        "train_y = masks_as_np_array\n",
        "\n",
        "test_x = images_as_np_array[-val_samples:]\n",
        "test_y = masks_as_np_array[-val_samples:]\n",
        "\n",
        "\n",
        "# Create PyTorch Datasets\n",
        "train_set = CustomDataset(\n",
        "    images=train_x,\n",
        "    masks=train_y,\n",
        "    transform=preprocess\n",
        ")\n",
        "\n",
        "test_set = CustomDataset(\n",
        "    images=test_x,\n",
        "    masks=test_y,\n",
        "    transform=preprocess\n",
        ")\n",
        "\n",
        "# Create PyTorch DataLoaders\n",
        "train_loader = DataLoader(train_set, batch_size=64, shuffle=True)\n",
        "test_loader = DataLoader(test_set, batch_size=64, shuffle=False)\n",
        "\n",
        "# Define the optimizer and loss function\n",
        "optimizer = optim.Adam(model.parameters(), lr=0.0015) # 0.001\n",
        "criterion = nn.CrossEntropyLoss()\n",
        "\n",
        "# Set the model in training mode\n",
        "model.train()\n",
        "\n",
        "NUM_EPOCHS = 150\n",
        "\n",
        "def dice_loss(pred, target, smooth = 1.):\n",
        "    pred = pred.argmax(dim=1)\n",
        "    intersection = (pred * target).sum(dim=(1,2))\n",
        "    union = pred.sum(dim=(1,2)) + target.sum(dim=(1,2))\n",
        "\n",
        "    dice = (2. * intersection + smooth) / (union + smooth)\n",
        "\n",
        "    return 1 - dice.mean()\n",
        "\n",
        "def coverage_loss(preds, targets):\n",
        "    preds = (preds > 0.5).float()\n",
        "    targets = (targets > 0.5).float()\n",
        "\n",
        "    preds = preds.argmax(dim=1)\n",
        "    intersection = (preds * targets).sum(dim=(1,2))\n",
        "    union = preds.sum(dim=(1,2)) + targets.sum(dim=(1,2))\n",
        "\n",
        "    epsilon = 1e-6\n",
        "    coverage = intersection / (union + epsilon)\n",
        "    return (1 - coverage.mean())/2\n",
        "\n",
        "\n",
        "losses = []\n",
        "dice_coeffs = []\n",
        "\n",
        "best_coverage = 0.0\n",
        "best_model_wts = copy.deepcopy(model.state_dict())\n",
        "\n",
        "# Training loop\n",
        "for epoch in range(NUM_EPOCHS):\n",
        "    epoch_loss = 0\n",
        "    epoch_dice = 0\n",
        "    coverage = 0\n",
        "\n",
        "    for i, (inputs, targets)in enumerate(train_loader):\n",
        "        (valid_inputs, valid_targets) = next(enumerate(test_loader))[1]\n",
        "        inputs = inputs.float().to(device)  # Convert inputs to Float format and move to GPU\n",
        "        valid_inputs = valid_inputs.float().to(device)\n",
        "        targets = targets.long().to(device)  # Ensure targets are Long format for CrossEntropyLoss and move to GPU\n",
        "        valid_targets = valid_targets.long().to(device)\n",
        "\n",
        "        # Forward pass\n",
        "        # outputs = model(inputs)['out']\n",
        "        outputs = model(inputs)\n",
        "        valid_outputs = model(valid_inputs)\n",
        "\n",
        "        # Calculate loss\n",
        "        loss = criterion(outputs, targets)\n",
        "        d_loss = dice_loss(torch.softmax(outputs, dim=1), targets)\n",
        "        c_loss = coverage_loss(torch.softmax(outputs, dim=1), targets)\n",
        "        total_loss = loss + d_loss\n",
        "\n",
        "        # Backward pass and optimization\n",
        "        optimizer.zero_grad()\n",
        "        total_loss.backward()\n",
        "        optimizer.step()\n",
        "\n",
        "        # Calculate Dice coefficient\n",
        "        _, preds = torch.max(outputs, 1)\n",
        "        _, valid_preds = torch.max(valid_outputs, 1)\n",
        "        dice = dice_coefficient(preds, targets)\n",
        "        epoch_dice += dice.item()\n",
        "        epoch_loss += total_loss.item()\n",
        "\n",
        "        #current_coverage = calculate_coverage(preds, targets)\n",
        "        current_coverage = calculate_coverage(valid_preds, valid_targets)\n",
        "        if current_coverage >= best_coverage:\n",
        "            best_coverage = current_coverage\n",
        "            best_model_wts = copy.deepcopy(model.state_dict())\n",
        "            torch.save(model, '/content/drive/My Drive/models/res_u_coverage'+str(current_coverage)+'_.pth')\n",
        "\n",
        "    # Print loss and Dice coefficient every epoch\n",
        "    epoch_loss = epoch_loss / len(train_loader)\n",
        "    epoch_dice = epoch_dice / len(train_loader)\n",
        "    losses.append(epoch_loss)\n",
        "    dice_coeffs.append(epoch_dice)\n",
        "\n",
        "\n",
        "    print(f\"Epoch {epoch+1}/{NUM_EPOCHS}, Loss: {epoch_loss:.4f}, Dice Coefficient: {epoch_dice:.4f}, Coverage: {calculate_coverage(preds, targets)}, Validation Coverage: {current_coverage}\")\n",
        "end_time = time.time()\n",
        "print('Tempo de treinamento: ' + str(end_time - start_time))\n",
        "model.load_state_dict(best_model_wts)"
      ]
    },
    {
      "cell_type": "markdown",
      "metadata": {
        "id": "9qYrI2LJ_3VO"
      },
      "source": [
        "## Finding Duplicates"
      ]
    },
    {
      "cell_type": "code",
      "execution_count": null,
      "metadata": {
        "colab": {
          "background_save": true
        },
        "id": "i1eBSPrW8_FA",
        "outputId": "7de03029-e4b6-4e17-9c8b-4fa2ae263dcf"
      },
      "outputs": [],
      "source": [
        "def find_duplicates(train_data, test_data):\n",
        "    \"\"\"Find duplicate images in the training and testing sets.\"\"\"\n",
        "\n",
        "    # Compute a hash for each image in the training set\n",
        "    train_hashes = [imagehash.phash(Image.fromarray((img * 255).astype(np.uint8))) for img in train_data]\n",
        "\n",
        "    # Compute a hash for each image in the testing set\n",
        "    test_hashes = [imagehash.phash(Image.fromarray((img * 255).astype(np.uint8))) for img in test_data]\n",
        "\n",
        "    # Find duplicates\n",
        "    duplicates = [test for test in test_hashes if test in train_hashes]\n",
        "\n",
        "    return duplicates\n",
        "\n",
        "duplicates_x = find_duplicates(train_x, test_x)\n",
        "duplicates_y = find_duplicates(train_y, test_y)\n",
        "\n",
        "print(f\"Duplicate images in train_x and test_x: {len(duplicates_x)}\")\n",
        "print(f\"Duplicate masks in train_y and test_y: {len(duplicates_y)}\")"
      ]
    },
    {
      "cell_type": "code",
      "execution_count": null,
      "metadata": {
        "colab": {
          "background_save": true
        },
        "id": "IKdP-WzyRwL0",
        "outputId": "914b2975-25b2-4045-aa06-45a50bdeb2a8"
      },
      "outputs": [],
      "source": [
        "def visualize_data(images, masks, title):\n",
        "    \"\"\"Function to visualize images and masks\"\"\"\n",
        "    n = 10  # number of samples to display\n",
        "    fig, ax = plt.subplots(n, 2, figsize=(10, 20))\n",
        "\n",
        "    for i in range(n):\n",
        "        ax[i, 0].imshow(images[i])\n",
        "        ax[i, 0].set_title(f'{title} Image {i+1}')\n",
        "        ax[i, 1].imshow(masks[i], cmap='gray')\n",
        "        ax[i, 1].set_title(f'{title} Mask {i+1}')\n",
        "\n",
        "    plt.tight_layout()\n",
        "    plt.show()\n",
        "\n",
        "# Visualize training images and masks\n",
        "visualize_data(train_x, train_y, 'Train')\n",
        "\n",
        "# Visualize testing images and masks\n",
        "visualize_data(test_x, test_y, 'Test')\n"
      ]
    },
    {
      "cell_type": "markdown",
      "metadata": {
        "id": "-S8B7qx_wqMl"
      },
      "source": [
        "# Section 4: Model Evaluation and Visualization"
      ]
    },
    {
      "cell_type": "code",
      "execution_count": null,
      "metadata": {
        "colab": {
          "background_save": true
        },
        "id": "_2YVrbih8SlP",
        "outputId": "8262c3d4-2f75-4df8-9712-5312c9891ba0"
      },
      "outputs": [],
      "source": [
        "plt.figure(figsize=(10, 5))\n",
        "\n",
        "plt.subplot(1, 2, 1)\n",
        "plt.plot(losses, label='Loss')\n",
        "plt.title('Loss during training')\n",
        "plt.xlabel('Epoch')\n",
        "plt.ylabel('Loss')\n",
        "plt.grid(True)\n",
        "plt.legend()\n",
        "\n",
        "plt.subplot(1, 2, 2)\n",
        "plt.plot(dice_coeffs, label='Dice Coefficient')\n",
        "plt.title('Dice Coefficient during training')\n",
        "plt.xlabel('Epoch')\n",
        "plt.ylabel('Dice Coefficient')\n",
        "plt.grid(True)\n",
        "plt.legend()\n",
        "\n",
        "plt.tight_layout()\n",
        "plt.show()"
      ]
    },
    {
      "cell_type": "code",
      "execution_count": null,
      "metadata": {
        "colab": {
          "background_save": true
        },
        "id": "0tZ_aaV68f78",
        "outputId": "40ff71b1-236d-4a29-b58f-6a612f71fe9f"
      },
      "outputs": [],
      "source": [
        "coverage = calculate_coverage(preds, targets)\n",
        "print(f\"Coverage: {coverage:.2f}%\")"
      ]
    },
    {
      "cell_type": "markdown",
      "metadata": {
        "id": "Gqb3NvFS9dyk"
      },
      "source": [
        "# Manual Evaluating"
      ]
    },
    {
      "cell_type": "code",
      "execution_count": null,
      "metadata": {
        "colab": {
          "base_uri": "https://localhost:8080/"
        },
        "id": "9vhhNYd7NY3u",
        "outputId": "d88773b7-00e3-44b1-8912-6c766e5c9a78"
      },
      "outputs": [],
      "source": [
        "model.load_state_dict(best_model_wts)"
      ]
    },
    {
      "cell_type": "code",
      "execution_count": null,
      "metadata": {
        "id": "g07CuatXYCrH"
      },
      "outputs": [],
      "source": [
        "def image_transform_predict(model, image_path, device, transform=transforms.Compose([\n",
        "    transforms.Grayscale(),  # Convert to grayscale\n",
        "    #transforms.Resize((120, 120)),\n",
        "    transforms.ToTensor(),\n",
        "    #transforms.Normalize(mean=[0.485, 0.456, 0.406], std=[0.229, 0.224, 0.225])\n",
        "    transforms.Normalize(mean=[0.485], std=[0.229])  # Grayscale normalization\n",
        "])):\n",
        "    # Load the image\n",
        "    img = Image.open(image_path).convert(\"RGB\")\n",
        "\n",
        "    # Apply the transformations\n",
        "    img_t = transform(img)\n",
        "\n",
        "    # Create a mini-batch\n",
        "    img_t = img_t.unsqueeze(0)\n",
        "\n",
        "    # Move tensor to the device where your model is\n",
        "    img_t = img_t.to(device)\n",
        "\n",
        "    # Use your model to predict\n",
        "    model.eval()\n",
        "    with torch.no_grad():\n",
        "        output = model(img_t)\n",
        "\n",
        "    # Use argmax to get the most likely class for each pixel\n",
        "    _, preds = torch.max(output, dim=1)\n",
        "\n",
        "    # Move predictions to CPU and convert to numpy array\n",
        "    preds = preds.cpu().numpy()\n",
        "\n",
        "    # Plot the prediction\n",
        "    plt.imshow(preds[0], cmap='gray')\n",
        "    plt.show()"
      ]
    },
    {
      "cell_type": "code",
      "execution_count": null,
      "metadata": {
        "colab": {
          "base_uri": "https://localhost:8080/",
          "height": 851
        },
        "id": "EyHGuUec90Wf",
        "outputId": "fd954239-30b5-41ca-8794-bd7046503ab9"
      },
      "outputs": [],
      "source": [
        "image_transform_predict(model, \"/content/drive/MyDrive/manual/1.png\", device)\n",
        "image_transform_predict(model, \"/content/drive/MyDrive/manual/2.png\", device)"
      ]
    },
    {
      "cell_type": "markdown",
      "metadata": {
        "id": "GpzJmoDlAO3J"
      },
      "source": [
        "# Section 5: Fine Tuning and Hyperparameter Optimization"
      ]
    },
    {
      "cell_type": "markdown",
      "metadata": {
        "id": "caGtI0ZqAT1u"
      },
      "source": [
        "## Early Stopping"
      ]
    },
    {
      "cell_type": "code",
      "execution_count": null,
      "metadata": {
        "id": "-yib7KJQ1OEJ"
      },
      "outputs": [],
      "source": [
        "class EarlyStopping:\n",
        "    def __init__(self, patience=7, verbose=False, delta=0):\n",
        "        self.patience = patience\n",
        "        self.verbose = verbose\n",
        "        self.counter = 0\n",
        "        self.best_score = None\n",
        "        self.early_stop = False\n",
        "        self.val_loss_min = np.Inf\n",
        "        self.delta = delta\n",
        "\n",
        "    def __call__(self, val_loss, model):\n",
        "\n",
        "        score = -val_loss\n",
        "\n",
        "        if self.best_score is None:\n",
        "            self.best_score = score\n",
        "            self.save_checkpoint(val_loss, model)\n",
        "        elif score < self.best_score + self.delta:\n",
        "            self.counter += 1\n",
        "            print(f'EarlyStopping counter: {self.counter} out of {self.patience}')\n",
        "            if self.counter >= self.patience:\n",
        "                self.early_stop = True\n",
        "        else:\n",
        "            self.best_score = score\n",
        "            self.save_checkpoint(val_loss, model)\n",
        "            self.counter = 0\n",
        "\n",
        "    def save_checkpoint(self, val_loss, model):\n",
        "        '''Saves model when validation loss decrease.'''\n",
        "        if self.verbose:\n",
        "            print(f'Validation loss decreased ({self.val_loss_min:.6f} --> {val_loss:.6f}).  Saving model ...')\n",
        "        torch.save(model.state_dict(), 'checkpoint.pt')\n",
        "        self.val_loss_min = val_loss"
      ]
    },
    {
      "cell_type": "markdown",
      "metadata": {
        "id": "deXTs_DzAaDg"
      },
      "source": [
        "## Optuna Optimization"
      ]
    },
    {
      "cell_type": "code",
      "execution_count": null,
      "metadata": {
        "id": "xLtyAiYLAew2"
      },
      "outputs": [],
      "source": [
        "def objective(trial):\n",
        "    # Hyperparameters to tune\n",
        "    dropout = trial.suggest_float(\"dropout\", 0.1, 0.5)  # Dropout rate\n",
        "    lr = trial.suggest_float(\"lr\", 1e-5, 1e-1, log=True)  # Learning rate\n",
        "\n",
        "    # Model, criterion, optimizer\n",
        "    model = ResUNet(n_channels=3, n_classes=2, dropout=dropout).to(device)\n",
        "    criterion = nn.CrossEntropyLoss()\n",
        "    optimizer = optim.Adam(model.parameters(), lr=lr)\n",
        "\n",
        "    early_stopping = EarlyStopping(patience=10, verbose=True)  # Adjust patience as needed\n",
        "\n",
        "    val_loss = np.inf  # Initialize val_loss\n",
        "\n",
        "    for epoch in range(NUM_EPOCHS):\n",
        "        epoch_loss = 0\n",
        "        epoch_dice = 0\n",
        "\n",
        "        model.train()\n",
        "        for i, (inputs, targets) in enumerate(train_loader):\n",
        "            inputs = inputs.float().to(device)\n",
        "            targets = targets.long().to(device)\n",
        "\n",
        "            outputs = model(inputs)\n",
        "\n",
        "            loss = criterion(outputs, targets)\n",
        "            d_loss = dice_loss(torch.softmax(outputs, dim=1), targets)\n",
        "            total_loss = loss + d_loss\n",
        "\n",
        "            optimizer.zero_grad()\n",
        "            total_loss.backward()\n",
        "            optimizer.step()\n",
        "\n",
        "            _, preds = torch.max(outputs, 1)\n",
        "            dice = dice_coefficient(preds, targets)\n",
        "            epoch_dice += dice.item()\n",
        "            epoch_loss += total_loss.item()\n",
        "\n",
        "        epoch_loss = epoch_loss / len(train_loader)\n",
        "        epoch_dice = epoch_dice / len(train_loader)\n",
        "\n",
        "        # Validation\n",
        "        model.eval()\n",
        "        val_loss_temp = 0\n",
        "        with torch.no_grad():\n",
        "            for i, (inputs, targets) in enumerate(test_loader):\n",
        "                inputs = inputs.float().to(device)\n",
        "                targets = targets.long().to(device)\n",
        "\n",
        "                outputs = model(inputs)\n",
        "\n",
        "                loss = criterion(outputs, targets)\n",
        "                d_loss = dice_loss(torch.softmax(outputs, dim=1), targets)\n",
        "                total_loss = loss + d_loss\n",
        "\n",
        "                val_loss_temp += total_loss.item()\n",
        "\n",
        "        val_loss_temp = val_loss_temp / len(test_loader)\n",
        "\n",
        "        # Early stopping\n",
        "        early_stopping(val_loss_temp, model)\n",
        "        if early_stopping.early_stop:\n",
        "            print(\"Early stopping\")\n",
        "            break\n",
        "\n",
        "        val_loss = val_loss_temp  # Update val_loss only if model was evaluated\n",
        "\n",
        "    return val_loss  # Now val_loss is never None\n",
        "\n",
        "\n",
        "\n",
        "study = optuna.create_study(direction=\"minimize\")\n",
        "study.optimize(objective, n_trials=100, timeout=600)\n",
        "\n",
        "pruned_trials = study.get_trials(deepcopy=False, states=[TrialState.PRUNED])\n",
        "complete_trials = study.get_trials(deepcopy=False, states=[TrialState.COMPLETE])\n",
        "\n",
        "print(\"Study statistics: \")\n",
        "print(\"  Number of finished trials: \", len(study.trials))\n",
        "print(\"  Number of pruned trials: \", len(pruned_trials))\n",
        "print(\"  Number of complete trials: \", len(complete_trials))\n",
        "\n",
        "print(\"Best trial:\")\n",
        "trial = study.best_trial\n",
        "\n",
        "print(\"  Value: \", trial.value)\n",
        "\n",
        "print(\"  Params: \")\n",
        "for key, value in trial.params.items():\n",
        "    print(\"    {}: {}\".format(key, value))\n"
      ]
    },
    {
      "cell_type": "code",
      "execution_count": null,
      "metadata": {
        "id": "aoAaop4C_i4Y"
      },
      "outputs": [],
      "source": [
        "torch.save(model, '/content/drive/My Drive/model_res_u_coverage_96_38.pth')"
      ]
    }
  ],
  "metadata": {
    "accelerator": "GPU",
    "colab": {
      "collapsed_sections": [
        "KryM_y9vLyTH",
        "VN0UHe5ML2je",
        "ooClcRWfL7Hv",
        "9LMMUDfXMeHN",
        "wjMhNLOmSB8H",
        "9qYrI2LJ_3VO",
        "-S8B7qx_wqMl",
        "GpzJmoDlAO3J",
        "caGtI0ZqAT1u"
      ],
      "gpuType": "A100",
      "machine_shape": "hm",
      "provenance": []
    },
    "kernelspec": {
      "display_name": "Python 3",
      "name": "python3"
    },
    "language_info": {
      "name": "python"
    }
  },
  "nbformat": 4,
  "nbformat_minor": 0
}
