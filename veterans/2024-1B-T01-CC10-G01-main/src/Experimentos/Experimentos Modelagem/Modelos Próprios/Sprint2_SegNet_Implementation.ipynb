{
  "cells": [
    {
      "cell_type": "code",
      "execution_count": null,
      "metadata": {
        "colab": {
          "base_uri": "https://localhost:8080/"
        },
        "id": "EyakwyyGRxvw",
        "outputId": "304a8cf7-8f3e-4d04-ad2f-610b5422284f"
      },
      "outputs": [],
      "source": [
        "!unzip results.zip"
      ]
    },
    {
      "cell_type": "markdown",
      "metadata": {
        "id": "6dXG8G3GSUbZ"
      },
      "source": [
        "## Importing libraries"
      ]
    },
    {
      "cell_type": "markdown",
      "metadata": {
        "id": "04fdcp7gSdva"
      },
      "source": [
        "We will be using cv2 for image processing and matplotlib for visualization of the results. For training the model, keras and tensorflow will be used. Numpy will be used for numerical operations."
      ]
    },
    {
      "cell_type": "code",
      "execution_count": null,
      "metadata": {
        "id": "KahMEGmyRzYU"
      },
      "outputs": [],
      "source": [
        "import os\n",
        "import cv2\n",
        "import keras\n",
        "import random\n",
        "import numpy as np\n",
        "from tensorflow import data as tf_data\n",
        "from tensorflow import image as tf_image\n",
        "from tensorflow import io as tf_io\n",
        "from matplotlib import pyplot as plt\n",
        "from google.colab.patches import cv2_imshow"
      ]
    },
    {
      "cell_type": "markdown",
      "metadata": {
        "id": "oivWLpUuSW7z"
      },
      "source": [
        "## Load images"
      ]
    },
    {
      "cell_type": "markdown",
      "metadata": {
        "id": "ASWknfp5Sbi6"
      },
      "source": [
        "The images are then loaded by using OpenCV imread method. Tests were conducted by using keras load_image method but it was not compatible with .Tif images."
      ]
    },
    {
      "cell_type": "markdown",
      "metadata": {
        "id": "AV4VSdQhShR3"
      },
      "source": [
        "### Parameters"
      ]
    },
    {
      "cell_type": "markdown",
      "metadata": {
        "id": "W26H0jRESjuk"
      },
      "source": [
        "* Input dir = input folder (images)\n",
        "* Target dir = target / annotations folder (masks)\n",
        "* Img_size = image resolution"
      ]
    },
    {
      "cell_type": "code",
      "execution_count": null,
      "metadata": {
        "id": "Rvt5a3x-SZFD"
      },
      "outputs": [],
      "source": [
        "input_dir = \"./results/images\"\n",
        "target_dir = \"./results/masks\"\n",
        "img_size = (64,64)"
      ]
    },
    {
      "cell_type": "markdown",
      "metadata": {
        "id": "bFeICwAGSnMV"
      },
      "source": [
        "### Listing image paths"
      ]
    },
    {
      "cell_type": "markdown",
      "metadata": {
        "id": "aQW77hV1SpL8"
      },
      "source": [
        "Paths are mapped according to the image and mask names, sorted by their ids and stored in a list. The lists are latter used to load the images and masks as numpy arrays.\n",
        "\n"
      ]
    },
    {
      "cell_type": "code",
      "execution_count": null,
      "metadata": {
        "id": "VCedsWCHSsWS"
      },
      "outputs": [],
      "source": [
        "input_img_paths = sorted(\n",
        "    [\n",
        "        os.path.join(input_dir, fname)\n",
        "        for fname in os.listdir(input_dir)\n",
        "        if fname.endswith(\".tif\")\n",
        "    ],\n",
        "    key = lambda x:  x.split(\"_\")[1].split(\".\")[0]\n",
        ")\n",
        "target_img_paths = sorted(\n",
        "    [\n",
        "        os.path.join(target_dir, fname)\n",
        "        for fname in os.listdir(target_dir)\n",
        "        if fname.endswith(\".png\") and not fname.startswith(\".\")\n",
        "    ],\n",
        "    key = lambda x: x.split(\"_\")[1].split(\".\")[0]\n",
        ")"
      ]
    },
    {
      "cell_type": "markdown",
      "metadata": {
        "id": "EuoG8qMgSvX8"
      },
      "source": [
        "### Integrity Check\n"
      ]
    },
    {
      "cell_type": "markdown",
      "metadata": {
        "id": "pDR3jBz2SswH"
      },
      "source": [
        "Before proceeding, the integrity of the dataset is checked by comparing the number of images and masks along with their names from the lists. Each display line should have the same image and mask name."
      ]
    },
    {
      "cell_type": "code",
      "execution_count": null,
      "metadata": {
        "colab": {
          "base_uri": "https://localhost:8080/"
        },
        "id": "nKvYC3FySzhT",
        "outputId": "0140ae4e-e157-404f-aed0-e28a34223ce8"
      },
      "outputs": [],
      "source": [
        "print(\"Number of inputs:\", len(input_img_paths))\n",
        "print(\"Number of labels:\", len(target_img_paths))\n",
        "for input_path, target_path in zip(input_img_paths[:10], target_img_paths[:10]):\n",
        "    print(input_path, \"|\", target_path)"
      ]
    },
    {
      "cell_type": "markdown",
      "metadata": {
        "id": "e6Okg-UeS0Zv"
      },
      "source": [
        "### Loading image arrays from paths\n"
      ]
    },
    {
      "cell_type": "markdown",
      "metadata": {
        "id": "5iaMb8RcS-B-"
      },
      "source": [
        "Here we use the cv2 imread method to load the images from the listed paths. Following this operation the images can be easily converted to numpy arrays.\n",
        "\n"
      ]
    },
    {
      "cell_type": "code",
      "execution_count": null,
      "metadata": {
        "colab": {
          "base_uri": "https://localhost:8080/",
          "height": 1000
        },
        "id": "me2OMeZIS-k8",
        "outputId": "9eb6829e-01e9-4486-8f0c-3712c76ed188"
      },
      "outputs": [],
      "source": [
        "input_img_paths_cv2 = [cv2.imread(path) for path in input_img_paths]\n",
        "target_img_paths_cv2 = [cv2.imread(path, cv2.IMREAD_GRAYSCALE) for path in target_img_paths]\n",
        "\n",
        "for i in range(10):\n",
        "    cv2_imshow(input_img_paths_cv2[i])\n",
        "    cv2_imshow(target_img_paths_cv2[i])"
      ]
    },
    {
      "cell_type": "markdown",
      "metadata": {
        "id": "7_2lDfikTAqa"
      },
      "source": [
        "## Convert Img object to numpy array\n"
      ]
    },
    {
      "cell_type": "markdown",
      "metadata": {
        "id": "XSAM39RlTwCw"
      },
      "source": [
        "For further processing, the images are converted to numpy arrays. This ensures that the images can be used for training the model.\n",
        "\n"
      ]
    },
    {
      "cell_type": "code",
      "execution_count": null,
      "metadata": {
        "id": "gDIF8ZjhT00t"
      },
      "outputs": [],
      "source": [
        "input_imgs_np = [(np.asarray(img) / 255).astype(np.float32) for img in input_img_paths_cv2]\n",
        "target_imgs_np = [np.expand_dims((np.asarray(img) / 255).astype(np.uint8), axis=-1) for img in target_img_paths_cv2]"
      ]
    },
    {
      "cell_type": "markdown",
      "metadata": {
        "id": "dII64w1RT1qG"
      },
      "source": [
        "## Create Tensorflow Batch Dataset\n"
      ]
    },
    {
      "cell_type": "markdown",
      "metadata": {
        "id": "Ut6pUSxET3SA"
      },
      "source": [
        "Now that the images and masks are loaded, we can create a tensorflow dataset from the numpy arrays. This will allow us to use the dataset for training the model later on.\n",
        "\n"
      ]
    },
    {
      "cell_type": "code",
      "execution_count": null,
      "metadata": {
        "id": "h6dGhcbuT4io"
      },
      "outputs": [],
      "source": [
        "def get_dataset(\n",
        "    batch_size,\n",
        "    img_size,\n",
        "    input_img_arr,\n",
        "    target_img_arr,\n",
        "    max_dataset_len=None,\n",
        "):\n",
        "    \"\"\"Returns a TF Dataset.\"\"\"\n",
        "\n",
        "    if max_dataset_len:\n",
        "        input_img_arr = input_img_arr[:max_dataset_len]\n",
        "        target_img_arr = target_img_arr[:max_dataset_len]\n",
        "    dataset = tf_data.Dataset.from_tensor_slices((input_img_arr, target_img_arr))\n",
        "    return dataset.batch(batch_size)"
      ]
    },
    {
      "cell_type": "markdown",
      "metadata": {
        "id": "FkDwXNpaT6pb"
      },
      "source": [
        "## Define training / test / validation Datasets\n"
      ]
    },
    {
      "cell_type": "markdown",
      "metadata": {
        "id": "CUo9DKyiT84C"
      },
      "source": [
        "Instead of using the entire dataset for training, we can split the dataset into training, testing and validation datasets. This is done by divinding the original numpy arrays into 2 parts, one for training and the other for testing and validation. To ensure proper shuffling of the separated numpy arrays, we are setting a fixed seed value.\n",
        "\n"
      ]
    },
    {
      "cell_type": "code",
      "execution_count": null,
      "metadata": {
        "id": "hQIzIRh_UAvR"
      },
      "outputs": [],
      "source": [
        "val_percent = 0.25 # Percentage of the data to be used for validation\n",
        "\n",
        "val_samples = int(len(input_imgs_np) * val_percent)\n",
        "random.Random(800).shuffle(input_imgs_np)\n",
        "random.Random(800).shuffle(target_imgs_np)\n",
        "\n",
        "train_input_img_sample = input_imgs_np[:-val_samples]\n",
        "train_target_img_sample = target_imgs_np[:-val_samples]\n",
        "val_input_img_sample = input_imgs_np[-val_samples:]\n",
        "val_target_img_sample = target_imgs_np[-val_samples:]"
      ]
    },
    {
      "cell_type": "markdown",
      "metadata": {
        "id": "VxDyVvUOUDKf"
      },
      "source": [
        "## Verify Shapes\n"
      ]
    },
    {
      "cell_type": "markdown",
      "metadata": {
        "id": "VreU2ib0UGOe"
      },
      "source": [
        "The shapes of the training, testing and validation samples are verified to ensure that the data is divided correctly.\n",
        "\n"
      ]
    },
    {
      "cell_type": "code",
      "execution_count": null,
      "metadata": {
        "colab": {
          "base_uri": "https://localhost:8080/"
        },
        "id": "WNkz_AnTUGun",
        "outputId": "fb30eb28-6cfd-4d91-b053-cc3dd703cd23"
      },
      "outputs": [],
      "source": [
        "print(\"Train Shapes\")\n",
        "print(train_input_img_sample[0].shape)\n",
        "print(train_target_img_sample[0].shape)\n",
        "\n",
        "print(\"Evaluation Shapes\")\n",
        "print(val_input_img_sample[0].shape)\n",
        "print(val_target_img_sample[0].shape)"
      ]
    },
    {
      "cell_type": "markdown",
      "metadata": {
        "id": "W8QWa6-fUII3"
      },
      "source": [
        "## Parameters"
      ]
    },
    {
      "cell_type": "markdown",
      "metadata": {
        "id": "7xPAlijTUKss"
      },
      "source": [
        "* Batch size = number of images to be processed in one go\n",
        "* num_classes = number of classes in the dataset"
      ]
    },
    {
      "cell_type": "code",
      "execution_count": null,
      "metadata": {
        "id": "QR6JlsEVUQI_"
      },
      "outputs": [],
      "source": [
        "num_classes = 1 # Number of classes in the model\n",
        "batch_size = 2 # Batch size for training"
      ]
    },
    {
      "cell_type": "markdown",
      "metadata": {
        "id": "78gdL_M3UQXz"
      },
      "source": [
        "## Datasets\n",
        "The actual tensorflow batch datasets."
      ]
    },
    {
      "cell_type": "code",
      "execution_count": null,
      "metadata": {
        "id": "G0UwBRHpUgNJ"
      },
      "outputs": [],
      "source": [
        "# training dataset\n",
        "train_dataset = get_dataset(\n",
        "    batch_size,\n",
        "    img_size,\n",
        "    train_input_img_sample,\n",
        "    train_target_img_sample,\n",
        "    max_dataset_len=2000,\n",
        ")\n",
        "\n",
        "# validation dataset\n",
        "valid_dataset = get_dataset(\n",
        "    batch_size, img_size, val_input_img_sample, val_target_img_sample\n",
        ")\n",
        "\n",
        "# evaluation dataset\n",
        "eval = get_dataset(\n",
        "    batch_size, img_size, val_input_img_sample, val_target_img_sample\n",
        ")"
      ]
    },
    {
      "cell_type": "markdown",
      "metadata": {
        "id": "BBn29m5QUg3B"
      },
      "source": [
        "# Model\n"
      ]
    },
    {
      "cell_type": "markdown",
      "metadata": {
        "id": "4vZCZLUmUj7r"
      },
      "source": [
        "## SegNet Architecture"
      ]
    },
    {
      "cell_type": "markdown",
      "metadata": {
        "id": "mn4qmY__Xlr3"
      },
      "source": [
        "Explicação da SegNet\n",
        "\n",
        "Encoder:\n",
        " * Consiste em blocos de convolução seguidos de normalização em lote e ativação ReLU.\n",
        " * Cada bloco é seguido por uma operação de pooling que reduz a dimensionalidade.\n",
        "\n",
        "Decoder:\n",
        " * Blocos de upsampling para aumentar a resolução das features maps.\n",
        " * Blocos de convolução para refinar os detalhes após cada operação de upsampling.\n",
        " * Operações de normalização em lote e ativação ReLU para estabilizar o treinamento e acelerar a convergência.\n",
        "\n",
        "Output Layer:\n",
        " * Uma camada de convolução final para mapear para o número desejado de classes com uma função de ativação sigmoid."
      ]
    },
    {
      "cell_type": "code",
      "execution_count": null,
      "metadata": {
        "colab": {
          "base_uri": "https://localhost:8080/"
        },
        "id": "HzPed0wUUoPh",
        "outputId": "1d448cb1-78ee-4687-d1b2-99ad94806f72"
      },
      "outputs": [],
      "source": [
        "from keras.models import Model\n",
        "from keras.layers import Input, Conv2D, MaxPooling2D, UpSampling2D, BatchNormalization, Activation, Dropout, Conv2DTranspose\n",
        "\n",
        "def segnet_model(img_size, num_classes):\n",
        "    inputs = Input(shape=img_size + (3,))\n",
        "\n",
        "    # Encoder\n",
        "    c1 = Conv2D(64, (3, 3), padding='same')(inputs)\n",
        "    c1 = BatchNormalization()(c1)\n",
        "    c1 = Activation('relu')(c1)\n",
        "    c1 = Conv2D(64, (3, 3), padding='same')(c1)\n",
        "    c1 = BatchNormalization()(c1)\n",
        "    c1 = Activation('relu')(c1)\n",
        "    p1 = MaxPooling2D((2, 2))(c1)\n",
        "\n",
        "    c2 = Conv2D(128, (3, 3), padding='same')(p1)\n",
        "    c2 = BatchNormalization()(c2)\n",
        "    c2 = Activation('relu')(c2)\n",
        "    c2 = Conv2D(128, (3, 3), padding='same')(c2)\n",
        "    c2 = BatchNormalization()(c2)\n",
        "    c2 = Activation('relu')(c2)\n",
        "    p2 = MaxPooling2D((2, 2))(c2)\n",
        "\n",
        "    c3 = Conv2D(256, (3, 3), padding='same')(p2)\n",
        "    c3 = BatchNormalization()(c3)\n",
        "    c3 = Activation('relu')(c3)\n",
        "    c3 = Conv2D(256, (3, 3), padding='same')(c3)\n",
        "    c3 = BatchNormalization()(c3)\n",
        "    c3 = Activation('relu')(c3)\n",
        "    c3 = Conv2D(256, (3, 3), padding='same')(c3)\n",
        "    c3 = BatchNormalization()(c3)\n",
        "    c3 = Activation('relu')(c3)\n",
        "    p3 = MaxPooling2D((2, 2))(c3)\n",
        "\n",
        "    c4 = Conv2D(512, (3, 3), padding='same')(p3)\n",
        "    c4 = BatchNormalization()(c4)\n",
        "    c4 = Activation('relu')(c4)\n",
        "    c4 = Conv2D(512, (3, 3), padding='same')(c4)\n",
        "    c4 = BatchNormalization()(c4)\n",
        "    c4 = Activation('relu')(c4)\n",
        "    c4 = Conv2D(512, (3, 3), padding='same')(c4)\n",
        "    c4 = BatchNormalization()(c4)\n",
        "    c4 = Activation('relu')(c4)\n",
        "    p4 = MaxPooling2D((2, 2))(c4)\n",
        "\n",
        "    c5 = Conv2D(512, (3, 3), padding='same')(p4)\n",
        "    c5 = BatchNormalization()(c5)\n",
        "    c5 = Activation('relu')(c5)\n",
        "    c5 = Conv2D(512, (3, 3), padding='same')(c5)\n",
        "    c5 = BatchNormalization()(c5)\n",
        "    c5 = Activation('relu')(c5)\n",
        "    c5 = Conv2D(512, (3, 3), padding='same')(c5)\n",
        "    c5 = BatchNormalization()(c5)\n",
        "    c5 = Activation('relu')(c5)\n",
        "    p5 = MaxPooling2D((2, 2))(c5)\n",
        "\n",
        "    # Decoder\n",
        "    u6 = UpSampling2D((2, 2))(p5)\n",
        "    c6 = Conv2D(512, (3, 3), padding='same')(u6)\n",
        "    c6 = BatchNormalization()(c6)\n",
        "    c6 = Activation('relu')(c6)\n",
        "    c6 = Conv2D(512, (3, 3), padding='same')(c6)\n",
        "    c6 = BatchNormalization()(c6)\n",
        "    c6 = Activation('relu')(c6)\n",
        "    c6 = Conv2D(512, (3, 3), padding='same')(c6)\n",
        "    c6 = BatchNormalization()(c6)\n",
        "    c6 = Activation('relu')(c6)\n",
        "\n",
        "    u7 = UpSampling2D((2, 2))(c6)\n",
        "    c7 = Conv2D(512, (3, 3), padding='same')(u7)\n",
        "    c7 = BatchNormalization()(c7)\n",
        "    c7 = Activation('relu')(c7)\n",
        "    c7 = Conv2D(512, (3, 3), padding='same')(c7)\n",
        "    c7 = BatchNormalization()(c7)\n",
        "    c7 = Activation('relu')(c7)\n",
        "    c7 = Conv2D(256, (3, 3), padding='same')(c7)\n",
        "    c7 = BatchNormalization()(c7)\n",
        "    c7 = Activation('relu')(c7)\n",
        "\n",
        "    u8 = UpSampling2D((2, 2))(c7)\n",
        "    c8 = Conv2D(256, (3, 3), padding='same')(u8)\n",
        "    c8 = BatchNormalization()(c8)\n",
        "    c8 = Activation('relu')(c8)\n",
        "    c8 = Conv2D(256, (3, 3), padding='same')(c8)\n",
        "    c8 = BatchNormalization()(c8)\n",
        "    c8 = Activation('relu')(c8)\n",
        "    c8 = Conv2D(128, (3, 3), padding='same')(c8)\n",
        "    c8 = BatchNormalization()(c8)\n",
        "    c8 = Activation('relu')(c8)\n",
        "\n",
        "    u9 = UpSampling2D((2, 2))(c8)\n",
        "    c9 = Conv2D(128, (3, 3), padding='same')(u9)\n",
        "    c9 = BatchNormalization()(c9)\n",
        "    c9 = Activation('relu')(c9)\n",
        "    c9 = Conv2D(64, (3, 3), padding='same')(c9)\n",
        "    c9 = BatchNormalization()(c9)\n",
        "    c9 = Activation('relu')(c9)\n",
        "\n",
        "    u10 = UpSampling2D((2, 2))(c9)\n",
        "    c10 = Conv2D(64, (3, 3), padding='same')(u10)\n",
        "    c10 = BatchNormalization()(c10)\n",
        "    c10 = Activation('relu')(c10)\n",
        "\n",
        "    outputs = Conv2D(num_classes, (1, 1), activation='sigmoid')(c10)\n",
        "\n",
        "    model = Model(inputs=[inputs], outputs=[outputs])\n",
        "    return model\n",
        "\n",
        "model = segnet_model(img_size, num_classes)\n",
        "model.summary()"
      ]
    },
    {
      "cell_type": "markdown",
      "metadata": {
        "id": "wBfDSQ0oUofQ"
      },
      "source": [
        "## Loss Function"
      ]
    },
    {
      "cell_type": "markdown",
      "metadata": {
        "id": "XbLJpjF9Us5P"
      },
      "source": [
        "The loss function is defined as binary crossentropy. This is a common loss function used for binary classification tasks.\n"
      ]
    },
    {
      "cell_type": "code",
      "execution_count": null,
      "metadata": {
        "id": "lgqATkMuUuvt"
      },
      "outputs": [],
      "source": [
        "import tensorflow as tf\n",
        "loss = tf.keras.losses.BinaryCrossentropy(from_logits=True)"
      ]
    },
    {
      "cell_type": "markdown",
      "metadata": {
        "id": "dv_YUhiXUvB8"
      },
      "source": [
        "## Optimizer"
      ]
    },
    {
      "cell_type": "code",
      "execution_count": null,
      "metadata": {
        "id": "0wMEHKKvUw6e"
      },
      "outputs": [],
      "source": [
        "optimizer = tf.keras.optimizers.Adam(learning_rate=1e-4)"
      ]
    },
    {
      "cell_type": "markdown",
      "metadata": {
        "id": "ARqJqpFAUxZ_"
      },
      "source": [
        "## Compiling the Model"
      ]
    },
    {
      "cell_type": "code",
      "execution_count": null,
      "metadata": {
        "id": "bCnndQIKU7lC"
      },
      "outputs": [],
      "source": [
        "# Compile the model\n",
        "model.compile(\n",
        "    optimizer=optimizer, loss=loss, metrics=[keras.metrics.BinaryAccuracy()]\n",
        ")\n",
        "\n",
        "# Callback defined to save the best model during training\n",
        "callbacks = [\n",
        "    keras.callbacks.ModelCheckpoint(\"plot_segmentation.keras\", save_best_only=True)\n",
        "]"
      ]
    },
    {
      "cell_type": "markdown",
      "metadata": {
        "id": "CVVslDy0U9O5"
      },
      "source": [
        "## Training\n",
        "The model is trained using the training dataset. The number of epochs can be adjusted to improve the model performance."
      ]
    },
    {
      "cell_type": "code",
      "execution_count": null,
      "metadata": {
        "colab": {
          "base_uri": "https://localhost:8080/"
        },
        "id": "I__UQLeGVB81",
        "outputId": "8b6c406e-863f-4461-dca7-569bd3bb3a48"
      },
      "outputs": [],
      "source": [
        "epochs = 2 # Number of epochs for training\n",
        "\n",
        "# Train the model, doing validation at the end of each epoch\n",
        "model.fit(\n",
        "    train_dataset,\n",
        "    epochs=epochs,\n",
        "    validation_data=valid_dataset,\n",
        "    callbacks=callbacks,\n",
        "    verbose=1,\n",
        ")"
      ]
    },
    {
      "cell_type": "markdown",
      "metadata": {
        "id": "lNo3pn_fVCPW"
      },
      "source": [
        "# Results"
      ]
    },
    {
      "cell_type": "markdown",
      "metadata": {
        "id": "8cFKPhDeVlKq"
      },
      "source": [
        "## Testing Predictions\n",
        "The model is tested on the test dataset to generate predictions. The predictions are then visualized to evaluate the model performance.##"
      ]
    },
    {
      "cell_type": "code",
      "execution_count": null,
      "metadata": {
        "id": "lfnhmseeVjZ4"
      },
      "outputs": [],
      "source": [
        "test_preds = model.predict(valid_dataset)"
      ]
    },
    {
      "cell_type": "markdown",
      "metadata": {
        "id": "NuPa-HeTVoUI"
      },
      "source": [
        "## Displaying the Results\n",
        "The original image, mask and predicted mask are displayed side by side for comparison."
      ]
    },
    {
      "cell_type": "code",
      "execution_count": null,
      "metadata": {
        "id": "eatI9pMMVr-z"
      },
      "outputs": [],
      "source": [
        "for idx, (input, label) in enumerate(valid_dataset.unbatch()):\n",
        "  f, axarr = plt.subplots(1,3)\n",
        "  axarr[0].imshow(input)\n",
        "  axarr[1].imshow(label.numpy()*255)\n",
        "  axarr[2].imshow(test_preds[idx]*255)"
      ]
    }
  ],
  "metadata": {
    "colab": {
      "provenance": []
    },
    "kernelspec": {
      "display_name": "Python 3",
      "name": "python3"
    },
    "language_info": {
      "name": "python"
    }
  },
  "nbformat": 4,
  "nbformat_minor": 0
}
