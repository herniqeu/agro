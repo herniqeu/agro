{
  "cells": [
    {
      "cell_type": "code",
      "execution_count": null,
      "metadata": {
        "colab": {
          "base_uri": "https://localhost:8080/"
        },
        "id": "8f4qzIQfjgfx",
        "outputId": "17755bba-d1f5-4c81-9ffd-ef65ebcb5d68"
      },
      "outputs": [],
      "source": [
        "from google.colab import drive\n",
        "drive.mount('/content/drive')"
      ]
    },
    {
      "cell_type": "code",
      "execution_count": null,
      "metadata": {
        "id": "gCbIN-pUjVaA"
      },
      "outputs": [],
      "source": [
        "import tensorflow as tf\n",
        "from tensorflow import keras\n",
        "from tensorflow.keras import layers\n",
        "import tensorflow_datasets as tfds\n",
        "import matplotlib.pyplot as plt\n",
        "import numpy as np"
      ]
    },
    {
      "cell_type": "code",
      "execution_count": null,
      "metadata": {
        "id": "tMLYRf2CjtOK"
      },
      "outputs": [],
      "source": [
        "from PIL import Image\n",
        "import os\n",
        "import cv2\n",
        "\n",
        "def dataset_func(diretorio):\n",
        "    imagens = []\n",
        "    for filename in os.listdir(diretorio):\n",
        "        caminho = os.path.join(diretorio, filename)\n",
        "        if os.path.isfile(caminho):\n",
        "            input_image = cv2.imread(caminho)\n",
        "            if input_image is not None:\n",
        "                imagens.append(input_image)\n",
        "            else:\n",
        "                print(f\"Erro ao ler imagem: {caminho}\")\n",
        "    return imagens\n",
        "\n",
        "input_image_path = \"/content/drive/MyDrive/u-net_test/img\"\n",
        "input_image = dataset_func(input_image_path)\n",
        "\n",
        "\n",
        "def masks_func(diretorio):\n",
        "    imagens = []\n",
        "    for filename in os.listdir(diretorio):\n",
        "        caminho = os.path.join(diretorio, filename)\n",
        "        if os.path.isfile(caminho):\n",
        "            input_mask = cv2.imread(caminho, cv2.IMREAD_GRAYSCALE)  # Lendo a imagem em escala de cinza\n",
        "            if input_mask is not None:\n",
        "                # Aplicando thresholding\n",
        "                _, thresholded_mask = cv2.threshold(input_mask, 127, 255, cv2.THRESH_BINARY)\n",
        "                imagens.append(thresholded_mask)\n",
        "            else:\n",
        "                print(f\"Erro ao ler imagem: {caminho}\")\n",
        "    return imagens\n",
        "\n",
        "masks_path = \"/content/drive/MyDrive/u-net_test/masks\"\n",
        "input_mask = masks_func(masks_path)"
      ]
    },
    {
      "cell_type": "code",
      "execution_count": null,
      "metadata": {
        "id": "o-XeUI_s6o0P"
      },
      "outputs": [],
      "source": [
        "def resize(input_image, input_masks):\n",
        "    # Adicionando um eixo para os canais de cor, se necessário\n",
        "    if input_image.ndim == 2:\n",
        "        input_image = np.expand_dims(input_image, axis=-1)\n",
        "    if input_masks.ndim == 2:\n",
        "        input_masks = np.expand_dims(input_masks, axis=-1)\n",
        "\n",
        "    input_image = tf.image.resize(input_image, (128, 128), method=\"nearest\")\n",
        "    input_masks = tf.image.resize(input_masks, (128, 128), method=\"nearest\")\n",
        "\n",
        "    return input_image, input_masks\n",
        "\n",
        "def augment(input_image, input_mask):\n",
        "   if tf.random.uniform(()) > 0.5:\n",
        "       # Random flipping of the image and mask\n",
        "       input_image = tf.image.flip_left_right(input_image)\n",
        "       input_mask = tf.image.flip_left_right(input_mask)\n",
        "   return input_image, input_mask\n",
        "\n",
        "def normalize(input_image, input_mask):\n",
        "   input_image = tf.cast(input_image, tf.float32) / 255.0\n",
        "   input_mask -= 1\n",
        "   return input_image, input_mask\n",
        "\n",
        "def load_image_train(images, masks):\n",
        "    resized_images = []\n",
        "    resized_masks = []\n",
        "    for i in range(len(images)):\n",
        "        input_image = images[i]\n",
        "        input_mask = masks[i]\n",
        "        input_image, input_mask = resize(input_image, input_mask)\n",
        "        input_image, input_mask = augment(input_image, input_mask)\n",
        "        input_image, input_mask = normalize(input_image, input_mask)\n",
        "        resized_images.append(input_image)\n",
        "        resized_masks.append(input_mask)\n",
        "    return resized_images, resized_masks\n",
        "\n",
        "def load_image_test(input_image, input_mask):\n",
        "   input_image, input_mask = resize(input_image, input_mask)\n",
        "   input_image, input_mask = normalize(input_image, input_mask)\n",
        "   return input_image, input_mask\n",
        "\n",
        "input_image = dataset_func(input_image_path)\n",
        "input_mask = masks_func(masks_path)\n",
        "input_image, input_mask = load_image_train(input_image, input_mask)\n",
        "\n"
      ]
    },
    {
      "cell_type": "code",
      "execution_count": null,
      "metadata": {
        "id": "FDioMuobzktr"
      },
      "outputs": [],
      "source": [
        "# Dividindo os dados em conjuntos de treinamento e teste\n",
        "train_size = int(0.8 * len(input_image))\n",
        "train_image, test_image = input_image[:train_size], input_image[train_size:]\n",
        "train_mask, test_mask = input_mask[:train_size], input_mask[train_size:]\n",
        "\n",
        "# Aplicando a função resize aos conjuntos de treinamento e teste\n",
        "train_resized = [resize(image, mask) for image, mask in zip(train_image, train_mask)]\n",
        "test_resized = [resize(image, mask) for image, mask in zip(test_image, test_mask)]\n",
        "\n",
        "# Convertendo para tensores TensorFlow\n",
        "train_resized_image = tf.convert_to_tensor([image for image, _ in train_resized])\n",
        "train_resized_mask = tf.convert_to_tensor([mask for _, mask in train_resized])\n",
        "test_resized_image = tf.convert_to_tensor([image for image, _ in test_resized])\n",
        "test_resized_mask = tf.convert_to_tensor([mask for _, mask in test_resized])\n",
        "\n",
        "# Criando tf.data.Dataset a partir dos conjuntos de dados redimensionados\n",
        "train_dataset = tf.data.Dataset.from_tensor_slices((train_resized_image, train_resized_mask))\n",
        "test_dataset = tf.data.Dataset.from_tensor_slices((test_resized_image, test_resized_mask))\n",
        "\n"
      ]
    },
    {
      "cell_type": "code",
      "execution_count": null,
      "metadata": {
        "id": "h-_6iIRewuCl"
      },
      "outputs": [],
      "source": [
        "BATCH_SIZE = 64\n",
        "BUFFER_SIZE = 1000\n",
        "train_batches = train_dataset.cache().shuffle(BUFFER_SIZE).batch(BATCH_SIZE).repeat()\n",
        "train_batches = train_batches.prefetch(buffer_size=tf.data.experimental.AUTOTUNE)\n",
        "validation_batches = test_dataset.take(3000).batch(BATCH_SIZE)\n",
        "test_batches = test_dataset.skip(3000).take(669).batch(BATCH_SIZE)"
      ]
    },
    {
      "cell_type": "code",
      "execution_count": null,
      "metadata": {
        "colab": {
          "base_uri": "https://localhost:8080/",
          "height": 575
        },
        "id": "G_sAR4jUw3or",
        "outputId": "8064b7a9-9cf7-4627-fe26-b530cbeb130e"
      },
      "outputs": [],
      "source": [
        "def display(display_list):\n",
        " plt.figure(figsize=(15, 15))\n",
        " title = [\"Input Image\", \"True Mask\", \"Predicted Mask\"]\n",
        " for i in range(len(display_list)):\n",
        "   plt.subplot(1, len(display_list), i+1)\n",
        "   plt.title(title[i])\n",
        "   plt.imshow(tf.keras.utils.array_to_img(display_list[i]))\n",
        "   plt.axis(\"off\")\n",
        " plt.show()\n",
        "sample_batch = next(iter(train_batches))\n",
        "random_index = np.random.choice(sample_batch[0].shape[0])\n",
        "sample_image, sample_mask = sample_batch[0][random_index], sample_batch[1][random_index]\n",
        "display([sample_image, sample_mask])"
      ]
    },
    {
      "cell_type": "code",
      "execution_count": null,
      "metadata": {
        "id": "fFu9O3Ud-P83"
      },
      "outputs": [],
      "source": [
        "def double_conv_block(x, n_filters):\n",
        "    # Conv2D then ReLU activation\n",
        "    x = layers.Conv2D(n_filters, 3, padding=\"same\", activation=\"relu\", kernel_initializer=\"he_normal\")(x)\n",
        "    # Conv2D then ReLU activation\n",
        "    x = layers.Conv2D(n_filters, 3, padding=\"same\", activation=\"relu\", kernel_initializer=\"he_normal\")(x)\n",
        "    return x"
      ]
    },
    {
      "cell_type": "code",
      "execution_count": null,
      "metadata": {
        "id": "I8wXIf6L-VXE"
      },
      "outputs": [],
      "source": [
        "def downsample_block(x, n_filters):\n",
        "    f = double_conv_block(x, n_filters)\n",
        "    p = layers.MaxPool2D(2)(f)\n",
        "    p = layers.Dropout(0.3)(p)\n",
        "    return f, p"
      ]
    },
    {
      "cell_type": "code",
      "execution_count": null,
      "metadata": {
        "id": "w42kZPim-WGR"
      },
      "outputs": [],
      "source": [
        "def upsample_block(x, conv_features, n_filters):\n",
        "    # upsample\n",
        "    x = layers.Conv2DTranspose(n_filters, 3, strides=2, padding=\"same\")(x)\n",
        "    # concatenate\n",
        "    x = layers.concatenate([x, conv_features])\n",
        "    # dropout\n",
        "    x = layers.Dropout(0.3)(x)\n",
        "    # Conv2D twice with ReLU activation\n",
        "    x = double_conv_block(x, n_filters)\n",
        "    return x\n"
      ]
    },
    {
      "cell_type": "code",
      "execution_count": null,
      "metadata": {
        "id": "h7SGtp2H_WSh"
      },
      "outputs": [],
      "source": [
        "import tensorflow as tf\n",
        "from tensorflow.keras import layers\n",
        "\n",
        "def build_unet_model():\n",
        "    # inputs\n",
        "    inputs = layers.Input(shape=(128, 128, 3))\n",
        "\n",
        "    # encoder: contracting path - downsample\n",
        "    # 1 - downsample\n",
        "    f1, p1 = downsample_block(inputs, 64)\n",
        "    # 2 - downsample\n",
        "    f2, p2 = downsample_block(p1, 128)\n",
        "    # 3 - downsample\n",
        "    f3, p3 = downsample_block(p2, 256)\n",
        "    # 4 - downsample\n",
        "    f4, p4 = downsample_block(p3, 512)\n",
        "\n",
        "    # 5 - bottleneck\n",
        "    bottleneck = double_conv_block(p4, 1024)\n",
        "\n",
        "    # decoder: expanding path - upsample\n",
        "    # 6 - upsample\n",
        "    u6 = upsample_block(bottleneck, f4, 512)\n",
        "    # 7 - upsample\n",
        "    u7 = upsample_block(u6, f3, 256)\n",
        "    # 8 - upsample\n",
        "    u8 = upsample_block(u7, f2, 128)\n",
        "    # 9 - upsample\n",
        "    u9 = upsample_block(u8, f1, 64)\n",
        "\n",
        "    # outputs\n",
        "    activation = \"sigmoid\"  # for binary segmentation\n",
        "    outputs = layers.Conv2D(1, 1, padding=\"same\", activation=activation)(u9)\n",
        "\n",
        "    # unet model with Keras Functional API\n",
        "    unet_model = tf.keras.Model(inputs, outputs, name=\"U-Net\")\n",
        "\n",
        "    return unet_model\n"
      ]
    },
    {
      "cell_type": "code",
      "execution_count": null,
      "metadata": {
        "id": "0WgsJAyCL2RG"
      },
      "outputs": [],
      "source": [
        "unet_model = build_unet_model()"
      ]
    },
    {
      "cell_type": "code",
      "execution_count": null,
      "metadata": {
        "id": "xEyWLRpOL04B"
      },
      "outputs": [],
      "source": [
        "unet_model.compile(optimizer=tf.keras.optimizers.Adam(),\n",
        "                   loss=\"binary_crossentropy\",\n",
        "                   metrics=\"accuracy\")"
      ]
    },
    {
      "cell_type": "code",
      "execution_count": null,
      "metadata": {
        "colab": {
          "base_uri": "https://localhost:8080/"
        },
        "id": "PHJQxPPw_ov1",
        "outputId": "563c5f09-ef86-49ad-895e-fa1f8a25f81e"
      },
      "outputs": [],
      "source": [
        "# Obtendo o comprimento dos conjuntos de dados input_image e input_mask\n",
        "TRAIN_LENGTH = len(train_dataset) * 2\n",
        "TEST_LENGTH = len(test_dataset) * 2\n",
        "\n",
        "NUM_EPOCHS = 10\n",
        "VAL_SUBSPLITS = 5\n",
        "BATCH_SIZE = 10\n",
        "\n",
        "# Calculando o número de etapas por época e etapas de validação\n",
        "STEPS_PER_EPOCH = TRAIN_LENGTH // BATCH_SIZE\n",
        "VALIDATION_STEPS = TEST_LENGTH // BATCH_SIZE\n",
        "\n",
        "# Verificando se STEPS_PER_EPOCH é zero\n",
        "if STEPS_PER_EPOCH == 10:\n",
        "    raise ValueError(\"O valor de STEPS_PER_EPOCH é zero. Verifique os tamanhos do conjunto de dados e do lote.\")\n",
        "\n",
        "# Agora você pode prosseguir com o treinamento do modelo usando esses valores\n",
        "model_history = unet_model.fit(train_batches,\n",
        "                               epochs=NUM_EPOCHS,\n",
        "                               steps_per_epoch=STEPS_PER_EPOCH,\n",
        "                               validation_steps=VALIDATION_STEPS,\n",
        "                               validation_data=test_batches)\n",
        "\n"
      ]
    },
    {
      "cell_type": "code",
      "execution_count": null,
      "metadata": {
        "colab": {
          "base_uri": "https://localhost:8080/"
        },
        "id": "UvXU8R9V_wku",
        "outputId": "8174a73e-277a-4e71-f9fe-36befc109fdb"
      },
      "outputs": [],
      "source": [
        "def create_mask(pred_mask):\n",
        " pred_mask = tf.argmax(pred_mask, axis=-1)\n",
        " pred_mask = pred_mask[..., tf.newaxis]\n",
        " return pred_mask[0]\n",
        "def show_predictions(dataset=None, num=1):\n",
        " if dataset:\n",
        "   for image, mask in dataset.take(num):\n",
        "     pred_mask = unet_model.predict(image)\n",
        "     display([image[0], mask[0], create_mask(pred_mask)])\n",
        " else:\n",
        "   display([sample_image, sample_mask,\n",
        "            create_mask(model.predict(sample_image[tf.newaxis, ...]))])\n",
        "count = 0\n",
        "for i in test_batches:\n",
        "   count +=1\n",
        "print(\"number of batches:\", count)"
      ]
    }
  ],
  "metadata": {
    "accelerator": "GPU",
    "colab": {
      "gpuType": "A100",
      "machine_shape": "hm",
      "provenance": []
    },
    "kernelspec": {
      "display_name": "Python 3",
      "name": "python3"
    },
    "language_info": {
      "name": "python"
    }
  },
  "nbformat": 4,
  "nbformat_minor": 0
}
