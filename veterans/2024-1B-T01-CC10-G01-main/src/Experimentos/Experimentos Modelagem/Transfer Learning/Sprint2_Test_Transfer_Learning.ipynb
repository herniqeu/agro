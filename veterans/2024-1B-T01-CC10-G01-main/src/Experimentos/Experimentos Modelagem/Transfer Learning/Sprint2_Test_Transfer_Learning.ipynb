{
  "cells": [
    {
      "cell_type": "code",
      "execution_count": null,
      "metadata": {
        "colab": {
          "base_uri": "https://localhost:8080/"
        },
        "id": "y4NBQxwka2Jq",
        "outputId": "a7919b1c-1674-44cc-edea-56cb3d089d79"
      },
      "outputs": [],
      "source": [
        "import os\n",
        "import cv2\n",
        "import numpy as np\n",
        "import matplotlib.pyplot as plt\n",
        "from sklearn.model_selection import train_test_split\n",
        "\n",
        "import tensorflow as tf\n",
        "from tensorflow.keras.applications import VGG16\n",
        "from tensorflow.keras.models import Model\n",
        "from tensorflow.keras.layers import Conv2D, UpSampling2D, MaxPooling2D, Activation\n",
        "from tensorflow.keras.optimizers import Adam"
      ]
    },
    {
      "cell_type": "code",
      "execution_count": null,
      "metadata": {
        "id": "x4KapMTSYi-v"
      },
      "outputs": [],
      "source": [
        "data_dir = '../../../results'\n",
        "\n",
        "def read_images_from_dir(directory):\n",
        "    images = []\n",
        "    for filename in os.listdir(directory):\n",
        "        img = cv2.imread(os.path.join(directory, filename))\n",
        "        if img is not None:\n",
        "            images.append(img)\n",
        "    return images\n",
        "\n",
        "images = np.array(read_images_from_dir(os.path.join(data_dir, 'images')))\n",
        "masks = np.array(read_images_from_dir(os.path.join(data_dir, 'masks')))"
      ]
    },
    {
      "cell_type": "code",
      "execution_count": null,
      "metadata": {},
      "outputs": [],
      "source": [
        "images = images[:]\n",
        "masks = masks[:]\n",
        "\n",
        "masks = (masks / 255).astype(np.uint8)\n",
        "# masks = np.where(masks == 255, 1, 0)"
      ]
    },
    {
      "cell_type": "code",
      "execution_count": null,
      "metadata": {},
      "outputs": [],
      "source": [
        "train_images, test_images, train_masks, test_masks = train_test_split(images, masks, test_size=0.1, random_state=42)\n",
        "val_images = test_images\n",
        "val_masks = test_masks"
      ]
    },
    {
      "cell_type": "code",
      "execution_count": null,
      "metadata": {
        "id": "Y1l8rqf5B0it"
      },
      "outputs": [],
      "source": [
        "base_model = VGG16(weights='imagenet', include_top=False, input_shape=(120, 120, 3))\n",
        "base_model = Model(inputs=base_model.input, outputs=base_model.layers[:-16][-1].output)"
      ]
    },
    {
      "cell_type": "code",
      "execution_count": null,
      "metadata": {},
      "outputs": [],
      "source": [
        "x = Conv2D(32, (3, 3), activation='relu', padding='same')(base_model.output)\n",
        "x = Conv2D(16, (3, 3), activation='sigmoid', padding='same')(x)\n",
        "x = Conv2D(16, (3, 3), activation='relu', padding='same')(x)\n",
        "x = Conv2D(3, (3, 3), activation='sigmoid', padding='same')(x)"
      ]
    },
    {
      "cell_type": "code",
      "execution_count": null,
      "metadata": {
        "id": "1o4b9kZIWaMU"
      },
      "outputs": [],
      "source": [
        "model = Model(inputs=base_model.input, outputs=x)\n",
        "\n",
        "model.compile(optimizer = Adam(learning_rate=0.0001),\n",
        "                loss='binary_crossentropy',\n",
        "                metrics=['accuracy'])\n",
        "\n",
        "model.fit(train_images,\n",
        "          train_masks,\n",
        "          validation_data=(val_images, val_masks),\n",
        "          steps_per_epoch=6,\n",
        "          epochs=10,\n",
        "          batch_size=64)\n",
        "\n",
        "loss, accuracy = model.evaluate(test_images, test_masks)"
      ]
    },
    {
      "cell_type": "code",
      "execution_count": null,
      "metadata": {},
      "outputs": [],
      "source": [
        "print(model.summary())"
      ]
    },
    {
      "cell_type": "code",
      "execution_count": null,
      "metadata": {},
      "outputs": [],
      "source": [
        "predicted_masks = []\n",
        "\n",
        "for image in test_images[:5]:\n",
        "    prediction = model.predict(np.array([image]))[0]\n",
        "    predicted_masks.append(prediction)"
      ]
    },
    {
      "cell_type": "code",
      "execution_count": null,
      "metadata": {},
      "outputs": [],
      "source": [
        "predicted_masks_modified = []\n",
        "\n",
        "for mask in predicted_masks:\n",
        "    modified_mask = np.where(mask > 0.5, 255, 0)\n",
        "    predicted_masks_modified.append(modified_mask)"
      ]
    },
    {
      "cell_type": "code",
      "execution_count": null,
      "metadata": {},
      "outputs": [],
      "source": [
        "def plot_images(ground_truth, predicted):\n",
        "    num_images = len(predicted)\n",
        "    plt.figure(figsize=(10, 5 * num_images))\n",
        "    for i in range(num_images):\n",
        "        plt.subplot(num_images, 2, 2*i + 1)\n",
        "        plt.imshow(predicted[i], cmap='gray')\n",
        "        plt.title('Predicted')\n",
        "        plt.axis('off')\n",
        "\n",
        "        plt.subplot(num_images, 2, 2*i + 2)\n",
        "        plt.imshow(ground_truth[i] * 255, cmap='gray')\n",
        "        plt.title('Ground Truth')\n",
        "        plt.axis('off')\n",
        "\n",
        "plot_images(val_masks, predicted_masks_modified)\n",
        "plt.show()"
      ]
    },
    {
      "cell_type": "code",
      "execution_count": null,
      "metadata": {},
      "outputs": [],
      "source": []
    }
  ],
  "metadata": {
    "accelerator": "GPU",
    "colab": {
      "collapsed_sections": [
        "TmXB9EI02aJC",
        "vPZyxudL1Ni7",
        "PPeD5LQF1SzI",
        "9dDea20kE9Wt",
        "eL4h_TlhE_ED",
        "E3R9jXaMq4BT",
        "OyL2WNYL041-",
        "hYDd46Gj1AHm",
        "qAiKSSeK09RY",
        "wm2po9jzY5s6",
        "T2sti0LwCQEE"
      ],
      "gpuType": "T4",
      "provenance": []
    },
    "kernelspec": {
      "display_name": "Python 3",
      "name": "python3"
    },
    "language_info": {
      "codemirror_mode": {
        "name": "ipython",
        "version": 3
      },
      "file_extension": ".py",
      "mimetype": "text/x-python",
      "name": "python",
      "nbconvert_exporter": "python",
      "pygments_lexer": "ipython3",
      "version": "3.12.3"
    }
  },
  "nbformat": 4,
  "nbformat_minor": 0
}
