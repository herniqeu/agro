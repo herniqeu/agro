{
  "nbformat": 4,
  "nbformat_minor": 0,
  "metadata": {
    "colab": {
      "provenance": []
    },
    "kernelspec": {
      "name": "python3",
      "display_name": "Python 3"
    },
    "language_info": {
      "name": "python"
    }
  },
  "cells": [
    {
      "cell_type": "code",
      "execution_count": 9,
      "metadata": {
        "id": "YiI-KAUSWah_"
      },
      "outputs": [],
      "source": [
        "from PIL import Image\n",
        "\n",
        "def crop_image(input_path, output_path, size=(1200, 1200)):\n",
        "    \"\"\"\n",
        "    Crop an image to a specified size.\n",
        "\n",
        "    Args:\n",
        "        input_path (str): The path to the original image.\n",
        "        output_path (str): The path to save the cropped image.\n",
        "        size (tuple): The desired width and height of the cropped image. Default is (1200, 1200).\n",
        "\n",
        "    Returns:\n",
        "        None\n",
        "    \"\"\"\n",
        "    with Image.open(input_path) as img:\n",
        "        # Crop the image\n",
        "        cropped_img = img.crop((0, 0, size[0], size[1]))\n",
        "\n",
        "        # Save the cropped image\n",
        "        cropped_img.save(output_path)\n",
        "\n",
        "# Path of the original image\n",
        "img_path = \"/content/path\"\n",
        "\n",
        "# Output path for the cropped image\n",
        "output_path = \"/content/name.tiff\"\n",
        "\n",
        "# Crop the image\n",
        "crop_image(img_path, output_path)\n"
      ]
    }
  ]
}