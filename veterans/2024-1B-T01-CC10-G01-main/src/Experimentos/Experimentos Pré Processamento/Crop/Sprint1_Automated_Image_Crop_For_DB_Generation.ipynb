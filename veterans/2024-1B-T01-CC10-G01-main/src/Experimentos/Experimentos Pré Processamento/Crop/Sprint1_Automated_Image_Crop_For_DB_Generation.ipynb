{
  "cells": [
    {
      "cell_type": "code",
      "execution_count": null,
      "metadata": {
        "colab": {
          "base_uri": "https://localhost:8080/"
        },
        "id": "mo7kfPM8O6Cg",
        "outputId": "8fb39e70-4fed-45a7-cd52-f9be9e9b8cfd"
      },
      "outputs": [],
      "source": [
        "!pip install tifffile"
      ]
    },
    {
      "cell_type": "code",
      "execution_count": null,
      "metadata": {
        "id": "kXFrOqwiIU2D"
      },
      "outputs": [],
      "source": [
        "import os\n",
        "import zipfile\n",
        "import tifffile as tiff\n",
        "from PIL import Image, ImageFile\n",
        "\n",
        "# Set PIL parameters to handle large images\n",
        "ImageFile.LOAD_TRUNCATED_IMAGES = True\n",
        "Image.MAX_IMAGE_PIXELS = None\n",
        "\n",
        "def cut_image_into_tiff_blocks(image_path, block_size):\n",
        "    \"\"\"\n",
        "    Cut an image into TIFF blocks.\n",
        "\n",
        "    Args:\n",
        "        image_path (str): The path to the input TIFF image.\n",
        "        block_size (tuple): A tuple containing the width and height of the blocks.\n",
        "\n",
        "    Returns:\n",
        "        list: A list containing the TIFF blocks as numpy arrays.\n",
        "    \"\"\"\n",
        "    with tiff.TiffFile(image_path) as tif:\n",
        "        image = tif.asarray()\n",
        "\n",
        "        block_width, block_height = block_size\n",
        "        total_height, total_width = image.shape[:2]\n",
        "\n",
        "        num_horizontal_blocks = total_width // block_width\n",
        "        num_vertical_blocks = total_height // block_height\n",
        "\n",
        "        blocks = []\n",
        "\n",
        "        for i in range(num_vertical_blocks):\n",
        "            for j in range(num_horizontal_blocks):\n",
        "                left = j * block_width\n",
        "                top = i * block_height\n",
        "                block = image[top:top+block_height, left:left+block_width]\n",
        "                blocks.append(block)\n",
        "\n",
        "        return blocks\n",
        "\n",
        "# Path to the input image\n",
        "image_path = '/content/2024-04-21-00_00_2024-04-21-23_59_Sentinel-2_L1C_Highlight_Optimized_Natural_Color.tiff'\n",
        "\n",
        "# Define the size of the blocks\n",
        "block_size = (120, 120)\n",
        "\n",
        "# Cut the image into TIFF blocks\n",
        "blocks = cut_image_into_tiff_blocks(image_path, block_size)\n",
        "\n",
        "# Save blocks to a ZIP file\n",
        "with zipfile.ZipFile('/content/blocks.zip', 'w') as zipf:\n",
        "    for index, block in enumerate(blocks):\n",
        "        block_file = f'/content/block_{index}.tiff'\n",
        "        tiff.imwrite(block_file, block)\n",
        "        zipf.write(block_file, os.path.relpath(block_file, '/content/'))\n",
        "\n",
        "# Remove TIFF files\n",
        "for file in os.listdir('/content/'):\n",
        "    if file.endswith('.tiff'):\n",
        "        os.remove(os.path.join('/content/', file))"
      ]
    }
  ],
  "metadata": {
    "colab": {
      "provenance": []
    },
    "kernelspec": {
      "display_name": "Python 3",
      "name": "python3"
    },
    "language_info": {
      "name": "python"
    }
  },
  "nbformat": 4,
  "nbformat_minor": 0
}
