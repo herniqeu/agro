{
  "cells": [
    {
      "cell_type": "markdown",
      "metadata": {
        "id": "9qkTDCIuDql3"
      },
      "source": [
        "# Import the required libraries"
      ]
    },
    {
      "cell_type": "code",
      "execution_count": null,
      "metadata": {
        "id": "p34lwW6P_llH"
      },
      "outputs": [],
      "source": [
        "import cv2 as cv\n",
        "import numpy as np\n",
        "from matplotlib import pyplot as plt\n",
        "from scipy.ndimage import convolve\n",
        "from scipy import misc\n",
        "import math"
      ]
    },
    {
      "cell_type": "markdown",
      "metadata": {
        "id": "bAcBzVJ2DuWH"
      },
      "source": [
        "## Define Process Pipeline"
      ]
    },
    {
      "cell_type": "markdown",
      "metadata": {
        "id": "i26-JUw_IeWd"
      },
      "source": [
        "### Define Image Process"
      ]
    },
    {
      "cell_type": "code",
      "execution_count": null,
      "metadata": {
        "id": "mV9LpigfDxly"
      },
      "outputs": [],
      "source": [
        "class BaseImageProcess:\n",
        "    \"\"\"\n",
        "    BaseImageProcess: A base class for image processing algorithms.\n",
        "\n",
        "    This class provides a basic framework for implementing image processing algorithms and is intended to be subclassed.\n",
        "    Subclasses should implement the `apply` method to perform specific image processing operations on an input image.\n",
        "    \"\"\"\n",
        "    def apply(self, img):\n",
        "        \"\"\"\n",
        "        Placeholder for applying an image processing algorithm.\n",
        "\n",
        "        Args:\n",
        "            img: The input image to process.\n",
        "\n",
        "        Returns:\n",
        "            The processed image.\n",
        "        \"\"\"\n",
        "        pass\n",
        "\n",
        "class MedianBlur(BaseImageProcess):\n",
        "    \"\"\"\n",
        "    MedianBlur: Applies median blur filtering to an image.\n",
        "\n",
        "    This class extends BaseImageProcess and provides an implementation of median blur filtering, which is effective\n",
        "    at removing salt-and-pepper noise.\n",
        "\n",
        "    Attributes:\n",
        "        kernel_size (int): Size of the kernel used for the median filter.\n",
        "    \"\"\"\n",
        "    def __init__(self, kernel_size=5):\n",
        "        self.kernel_size = kernel_size\n",
        "\n",
        "    def apply(self, img):\n",
        "        return cv.medianBlur(img, self.kernel_size)\n",
        "\n",
        "class GaussianBlur(BaseImageProcess):\n",
        "    \"\"\"\n",
        "    GaussianBlur: Applies Gaussian blur filtering to an image.\n",
        "\n",
        "    This class provides an implementation of Gaussian blur filtering, commonly used to reduce image noise and detail.\n",
        "\n",
        "    Attributes:\n",
        "        kernel_size (int): Size of the kernel used for the Gaussian filter.\n",
        "    \"\"\"\n",
        "    def __init__(self, kernel_size=5):\n",
        "        self.kernel_size = kernel_size\n",
        "\n",
        "    def apply(self, img):\n",
        "        return cv.GaussianBlur(img, (self.kernel_size, self.kernel_size), 0)\n",
        "\n",
        "class BinaryThresh(BaseImageProcess):\n",
        "    \"\"\"\n",
        "    BinaryThresh: Applies binary thresholding to an image.\n",
        "\n",
        "    Binary thresholding converts an image to binary (black and white) based on a threshold value. Pixels above the\n",
        "    threshold are set to the maximum value, and those below are set to zero.\n",
        "\n",
        "    Attributes:\n",
        "        thresh (int): Threshold value.\n",
        "        max_val (int): Maximum value to use with the threshold.\n",
        "    \"\"\"\n",
        "    def __init__(self, thresh=127, max_val=255):\n",
        "        self.thresh = thresh\n",
        "        self.max_val = max_val\n",
        "\n",
        "    def apply(self, img):\n",
        "        _, _img = cv.threshold(img, self.thresh, self.max_val, cv.THRESH_BINARY)\n",
        "        return _img\n",
        "\n",
        "class AdaptiveMeanThresh(BaseImageProcess):\n",
        "    \"\"\"\n",
        "    AdaptiveMeanThresh: Applies adaptive mean thresholding to an image.\n",
        "\n",
        "    Unlike simple thresholding, adaptive thresholding changes the threshold dynamically over the image based on local\n",
        "    image characteristics.\n",
        "\n",
        "    Attributes:\n",
        "        block_size (int): Size of a pixel neighborhood used to calculate the threshold.\n",
        "        c (int): Constant subtracted from the calculated mean or weighted mean.\n",
        "    \"\"\"\n",
        "    def __init__(self, block_size=11, c=2):\n",
        "        self.block_size = block_size\n",
        "        self.c = c\n",
        "\n",
        "    def apply(self, img):\n",
        "        return cv.adaptiveThreshold(img, 255, cv.ADAPTIVE_THRESH_MEAN_C, cv.THRESH_BINARY, self.block_size, self.c)\n",
        "\n",
        "class AdaptiveGaussThresh(BaseImageProcess):\n",
        "    \"\"\"\n",
        "    AdaptiveGaussThresh: Applies adaptive Gaussian thresholding to an image.\n",
        "\n",
        "    This method uses a weighted sum of neighbourhood values where weights are a Gaussian window, which provides\n",
        "    a more natural thresholding, especially under varying illumination.\n",
        "\n",
        "    Attributes:\n",
        "        block_size (int): Size of a pixel neighborhood used to calculate the threshold.\n",
        "        c (int): Constant subtracted from the calculated weighted sum.\n",
        "    \"\"\"\n",
        "    def __init__(self, block_size=11, c=2):\n",
        "        self.block_size = block_size\n",
        "        self.c = c\n",
        "\n",
        "    def apply(self, img):\n",
        "        return cv.adaptiveThreshold(img, 255, cv.ADAPTIVE_THRESH_GAUSSIAN_C, cv.THRESH_BINARY, self.block_size, self.c)\n",
        "\n",
        "class OtsuThresh(BaseImageProcess):\n",
        "    \"\"\"\n",
        "    OtsuThresh: Applies Otsu's thresholding to automatically perform histogram shape-based image thresholding.\n",
        "\n",
        "    This method is useful when the image contains two prominent pixel intensities and calculates an optimal threshold\n",
        "    separating these two classes so that their combined spread (intra-class variance) is minimal.\n",
        "    \"\"\"\n",
        "    def apply(self, img):\n",
        "        _, _img = cv.threshold(img, 0, 255, cv.THRESH_BINARY + cv.THRESH_OTSU)\n",
        "        return _img\n",
        "\n",
        "class MorphDilate(BaseImageProcess):\n",
        "    \"\"\"\n",
        "    MorphDilate: Applies morphological dilation to an image.\n",
        "\n",
        "    Dilation increases the white region in the image or size of the foreground object. Commonly used to accentuate\n",
        "    features.\n",
        "\n",
        "    Attributes:\n",
        "        kernel_size (int): Size of the structuring element.\n",
        "        iterations (int): Number of times dilation is applied.\n",
        "    \"\"\"\n",
        "    def __init__(self, kernel_size=3, iterations=2):\n",
        "        self.kernel_size = kernel_size\n",
        "        self.iterations = iterations\n",
        "        self.kernel = np.ones((self.kernel_size, self.kernel_size), np.uint8)\n",
        "\n",
        "    def apply(self, img):\n",
        "        return cv.dilate(img, self.kernel, iterations=self.iterations)\n",
        "\n",
        "class MorphErode(BaseImageProcess):\n",
        "    \"\"\"\n",
        "    MorphErode: Applies morphological erosion to an image.\n",
        "\n",
        "    Erosion erodes away the boundaries of the foreground object and is used to diminish the features of an image.\n",
        "\n",
        "    Attributes:\n",
        "        kernel_size (int): Size of the structuring element.\n",
        "        iterations (int): Number of times erosion is applied.\n",
        "    \"\"\"\n",
        "    def __init__(self, kernel_size=3, iterations=2):\n",
        "        self.kernel_size = kernel_size\n",
        "        self.iterations = iterations\n",
        "        self.kernel = np.ones((self.kernel_size, self.kernel_size), np.uint8)\n",
        "\n",
        "    def apply(self, img):\n",
        "        return cv.erode(img, self.kernel, iterations=self.iterations)\n",
        "\n",
        "class LoG(BaseImageProcess):\n",
        "    \"\"\"\n",
        "    LoG: Applies Laplacian of Gaussian filtering to an image.\n",
        "\n",
        "    This method is used to highlight regions of rapid intensity change and is therefore often used for edge detection.\n",
        "    First, it applies a Gaussian blur, then computes the Laplacian of the result.\n",
        "\n",
        "    Attributes:\n",
        "        sigma (float): Standard deviation of the Gaussian filter.\n",
        "        size (int): Size of the filter kernel.\n",
        "    \"\"\"\n",
        "    def __init__(self, sigma=2.0, size=None):\n",
        "        self.sigma = sigma\n",
        "        self.size = size if size is not None else int(6 * self.sigma + 1) if self.sigma >= 1 else 7\n",
        "        if self.size % 2 == 0:\n",
        "            self.size += 1\n",
        "\n",
        "    def apply(self, img):\n",
        "        x, y = np.meshgrid(np.arange(-self.size//2+1, self.size//2+1), np.arange(-self.size//2+1, self.size//2+1))\n",
        "        kernel = -(1/(np.pi * self.sigma**4)) * (1 - ((x**2 + y**2) / (2 * self.sigma**2))) * np.exp(-(x**2 + y**2) / (2 * self.sigma**2))\n",
        "        kernel = kernel / np.sum(np.abs(kernel))\n",
        "        return cv.filter2D(img, -1, kernel)\n",
        "\n",
        "\n",
        "class LoGConv(BaseImageProcess):\n",
        "    \"\"\"\n",
        "    LoGConv: Implements convolution with a Laplacian of Gaussian kernel to an image.\n",
        "\n",
        "    Similar to the LoG class, but tailored for applying custom convolution operations directly with a manually\n",
        "    crafted LoG kernel.\n",
        "\n",
        "    Attributes:\n",
        "        sigma (float): Standard deviation of the Gaussian filter.\n",
        "        size (int): Size of the filter kernel.\n",
        "    \"\"\"\n",
        "    def __init__(self, sigma=2.0, size=None):\n",
        "        self.sigma = sigma\n",
        "        self.size = size if size is not None else int(6 * sigma + 1)\n",
        "        if self.size % 2 == 0:\n",
        "            self.size += 1\n",
        "\n",
        "    def apply(self, img):\n",
        "        x, y = np.meshgrid(np.arange(-self.size//2 + 1, self.size//2 + 1),\n",
        "                           np.arange(-self.size//2 + 1, self.size//2 + 1))\n",
        "        kernel = -(1/(np.pi * self.sigma**4)) * (1 - ((x**2 + y**2) / (2 * self.sigma**2))) * np.exp(-(x**2 + y**2) / (2 * self.sigma**2))\n",
        "        kernel = kernel / np.sum(np.abs(kernel))\n",
        "        return convolve(img, kernel)\n"
      ]
    },
    {
      "cell_type": "markdown",
      "metadata": {
        "id": "dObGLVunIiNY"
      },
      "source": [
        "## Define Pipeline Class"
      ]
    },
    {
      "cell_type": "code",
      "execution_count": null,
      "metadata": {
        "id": "mz2PXc8VIjut"
      },
      "outputs": [],
      "source": [
        "class Pipe:\n",
        "    \"\"\"\n",
        "    Pipe: A class to manage and execute a pipeline of image processing operations on an image.\n",
        "\n",
        "    This class allows for the sequential application of multiple image processing algorithms, represented by instances\n",
        "    of classes derived from BaseImageProcess. It manages the image processing operations as a list of tasks which are\n",
        "    applied in the order they are added.\n",
        "\n",
        "    Attributes:\n",
        "        img (array-like): The base image on which the image processing operations will be applied.\n",
        "        process_list (list): A list of image processing tasks (instances of BaseImageProcess).\n",
        "\n",
        "    Methods:\n",
        "        add(image_process): Adds a single image processing task to the pipeline.\n",
        "        add_list(image_process_list): Adds a list of image processing tasks to the pipeline.\n",
        "        clear(): Clears all image processing tasks from the pipeline.\n",
        "        run(): Applies all the image processing tasks in the pipeline to the base image and displays the result.\n",
        "    \"\"\"\n",
        "    def __init__(self):\n",
        "        \"\"\"\n",
        "        Initializes a new Pipe instance with a base image.\n",
        "\n",
        "        Args:\n",
        "            base_img (array-like): The base image to which the image processing operations will be applied.\n",
        "        \"\"\"\n",
        "        self.process_list = []\n",
        "\n",
        "    def add(self, image_process : BaseImageProcess):\n",
        "        \"\"\"\n",
        "        Adds a single image processing task to the process list.\n",
        "\n",
        "        Args:\n",
        "            image_process (BaseImageProcess): An instance of BaseImageProcess to be added to the pipeline.\n",
        "        \"\"\"\n",
        "        self.process_list.append(image_process)\n",
        "\n",
        "    def add_list(self, image_process_list):\n",
        "        \"\"\"\n",
        "        Extends the process list by adding multiple image processing tasks.\n",
        "\n",
        "        Args:\n",
        "            image_process_list (list of BaseImageProcess): A list of image processing tasks to be added to the pipeline.\n",
        "        \"\"\"\n",
        "        self.process_list.extend(image_process_list)\n",
        "\n",
        "    def clear(self):\n",
        "        \"\"\"\n",
        "        Clears all image processing tasks from the pipeline.\n",
        "\n",
        "        This method resets the process list to an empty list, removing all previously added image processing tasks.\n",
        "        \"\"\"\n",
        "        self.process_list = []\n",
        "\n",
        "    def run(self, img):\n",
        "        \"\"\"\n",
        "        Executes the pipeline of image processing tasks on the base image.\n",
        "\n",
        "        This method applies each image processing task in the order they were added to the base image and displays\n",
        "        each processed image step by step in a grid layout using matplotlib. Each intermediate image and the final\n",
        "        processed image are displayed in grayscale.\n",
        "        \"\"\"\n",
        "        _img = img\n",
        "        num_steps = len(self.process_list) + 1\n",
        "        cols = 4\n",
        "        rows = math.ceil(num_steps / cols)\n",
        "\n",
        "        plt.figure(figsize=(20, 4 * rows))\n",
        "\n",
        "        for i, img_process in enumerate(self.process_list):\n",
        "            _img = img_process.apply(_img)\n",
        "            plt.subplot(rows, cols, i + 1)\n",
        "            plt.imshow(_img, 'gray')\n",
        "            plt.title(f\"Step {i + 1}: {img_process.__class__.__name__}\")\n",
        "            plt.axis('off')\n",
        "\n",
        "        plt.subplot(rows, cols, num_steps)\n",
        "        plt.imshow(_img, 'gray')\n",
        "        plt.title(\"Final Processed Image\")\n",
        "        plt.axis('off')\n",
        "        plt.tight_layout()\n",
        "        plt.show()\n"
      ]
    },
    {
      "cell_type": "markdown",
      "metadata": {
        "id": "PTHncFEz-EzN"
      },
      "source": [
        "### Run Pipeline on Image"
      ]
    },
    {
      "cell_type": "code",
      "execution_count": null,
      "metadata": {
        "id": "o1PC6wHiFuhf"
      },
      "outputs": [],
      "source": [
        "def read_image(file_path, mode=cv.IMREAD_GRAYSCALE):\n",
        "    \"\"\"\n",
        "    Read an image from the specified file path in grayscale.\n",
        "    \"\"\"\n",
        "    return cv.imread(file_path, mode)\n",
        "\n",
        "def configure_pipeline(processes):\n",
        "    \"\"\"\n",
        "    Configure and return a processing pipeline with predefined image processing steps.\n",
        "    \"\"\"\n",
        "    pipeline = Pipe()\n",
        "    pipeline.add_list(processes)\n",
        "    return pipeline"
      ]
    },
    {
      "cell_type": "code",
      "execution_count": null,
      "metadata": {
        "id": "KcNvBgkRJrHW"
      },
      "outputs": [],
      "source": [
        "IMAGE_PATH = '/content/drive/MyDrive/datasets/sat_imgs/653_2020-12-21_S2L1C_21JYJ_TCI.png'\n",
        "img = read_image(IMAGE_PATH)"
      ]
    },
    {
      "cell_type": "markdown",
      "metadata": {
        "id": "bya1pjccIrOJ"
      },
      "source": [
        "## Mixed Experiments"
      ]
    },
    {
      "cell_type": "code",
      "execution_count": null,
      "metadata": {
        "colab": {
          "base_uri": "https://localhost:8080/",
          "height": 389
        },
        "id": "lvjLJncKC1Dn",
        "outputId": "a63d0bf7-66dd-4cce-e12d-1a015ba8f6cb"
      },
      "outputs": [],
      "source": [
        "processes = [\n",
        "        GaussianBlur(kernel_size=5),\n",
        "        LoG(sigma=2.0),\n",
        "        BinaryThresh(thresh=127, max_val=255)\n",
        "]\n",
        "\n",
        "configure_pipeline(processes).run(img)"
      ]
    },
    {
      "cell_type": "code",
      "execution_count": null,
      "metadata": {
        "colab": {
          "base_uri": "https://localhost:8080/",
          "height": 389
        },
        "id": "UAJb5rxNJAtX",
        "outputId": "c6a42b98-8f20-4971-b1db-981098d7ffab"
      },
      "outputs": [],
      "source": [
        "processes = [\n",
        "        MedianBlur(kernel_size=5),\n",
        "        LoGConv(sigma=2.0),\n",
        "        MorphDilate(kernel_size=3, iterations=2)\n",
        "]\n",
        "\n",
        "configure_pipeline(processes).run(img)"
      ]
    },
    {
      "cell_type": "code",
      "execution_count": null,
      "metadata": {
        "colab": {
          "base_uri": "https://localhost:8080/",
          "height": 389
        },
        "id": "wc3e1--OJDoL",
        "outputId": "42c869b0-d3f2-4a75-a0ed-0429cb874e63"
      },
      "outputs": [],
      "source": [
        "processes = [\n",
        "        GaussianBlur(kernel_size=5),\n",
        "        AdaptiveGaussThresh(block_size=11, c=2),\n",
        "        MorphErode(kernel_size=3, iterations=2)\n",
        "]\n",
        "\n",
        "configure_pipeline(processes).run(img)"
      ]
    },
    {
      "cell_type": "code",
      "execution_count": null,
      "metadata": {
        "colab": {
          "base_uri": "https://localhost:8080/",
          "height": 389
        },
        "id": "toGS3zTPJOc_",
        "outputId": "fe173c43-d789-40a9-d04e-4bbdea5ce16a"
      },
      "outputs": [],
      "source": [
        "processes = [\n",
        "        LoGConv(sigma=2.0),\n",
        "        LoG(sigma=2.0),\n",
        "        OtsuThresh(),\n",
        "]\n",
        "configure_pipeline(processes).run(img)"
      ]
    },
    {
      "cell_type": "code",
      "execution_count": null,
      "metadata": {
        "colab": {
          "base_uri": "https://localhost:8080/",
          "height": 389
        },
        "id": "1rlehV9DKcZy",
        "outputId": "227eccc8-9de6-4445-8a0a-33416dc9fea0"
      },
      "outputs": [],
      "source": [
        "processes = [\n",
        "    GaussianBlur(kernel_size=7),\n",
        "    OtsuThresh(),\n",
        "    AdaptiveGaussThresh(block_size=11, c=1),\n",
        "]\n",
        "\n",
        "configure_pipeline(processes).run(img)"
      ]
    },
    {
      "cell_type": "code",
      "execution_count": null,
      "metadata": {
        "colab": {
          "base_uri": "https://localhost:8080/",
          "height": 758
        },
        "id": "ITg5fCHDKhq_",
        "outputId": "0d0285c9-a179-452a-ade5-d868934ec831"
      },
      "outputs": [],
      "source": [
        "processes = [\n",
        "    MedianBlur(kernel_size=5),\n",
        "    LoGConv(sigma=2.0),\n",
        "    GaussianBlur(kernel_size=5),\n",
        "    OtsuThresh(),\n",
        "]\n",
        "\n",
        "configure_pipeline(processes).run(img)"
      ]
    },
    {
      "cell_type": "code",
      "execution_count": null,
      "metadata": {
        "colab": {
          "base_uri": "https://localhost:8080/",
          "height": 758
        },
        "id": "EjDx84hvK_rQ",
        "outputId": "356a5137-1ee0-4cf3-e450-873d5d29022b"
      },
      "outputs": [],
      "source": [
        "processes = [\n",
        "    MedianBlur(kernel_size=3),\n",
        "    GaussianBlur(kernel_size=5),\n",
        "    LoGConv(sigma=1.5),\n",
        "    AdaptiveMeanThresh(block_size=15, c=3),\n",
        "    MorphDilate(kernel_size=3, iterations=1)\n",
        "]\n",
        "\n",
        "\n",
        "\n",
        "configure_pipeline(processes).run(img)"
      ]
    }
  ],
  "metadata": {
    "colab": {
      "provenance": []
    },
    "kernelspec": {
      "display_name": "Python 3",
      "name": "python3"
    },
    "language_info": {
      "name": "python"
    }
  },
  "nbformat": 4,
  "nbformat_minor": 0
}
